{
 "cells": [
  {
   "cell_type": "code",
   "execution_count": 7,
   "metadata": {
    "collapsed": false
   },
   "outputs": [
    {
     "ename": "ERROR",
     "evalue": "Error in unlist(str_split(x, \"\\n\"), recursive = FALSE, use.names = FALSE): lazy-load database '/Volumes/TONY/anaconda/lib/R/library/stringr/R/stringr.rdb' is corrupt\n",
     "output_type": "error",
     "traceback": "Error in unlist(str_split(x, \"\\n\"), recursive = FALSE, use.names = FALSE): lazy-load database '/Volumes/TONY/anaconda/lib/R/library/stringr/R/stringr.rdb' is corrupt\nTraceback:\n"
    }
   ],
   "source": [
    "library('R.matlab')"
   ]
  },
  {
   "cell_type": "code",
   "execution_count": 11,
   "metadata": {
    "collapsed": false
   },
   "outputs": [
    {
     "ename": "ERROR",
     "evalue": "Error in unlist(str_split(x, \"\\n\"), recursive = FALSE, use.names = FALSE): lazy-load database '/Volumes/TONY/anaconda/lib/R/library/stringr/R/stringr.rdb' is corrupt\n",
     "output_type": "error",
     "traceback": "Error in unlist(str_split(x, \"\\n\"), recursive = FALSE, use.names = FALSE): lazy-load database '/Volumes/TONY/anaconda/lib/R/library/stringr/R/stringr.rdb' is corrupt\nTraceback:\n"
    }
   ],
   "source": [
    "setwd(u'/Volumes/TONY/LabWW/Alzheimer/GSE44772/data')\n",
    "GSE44772_CR = readMat('GSE44772_CR.mat')"
   ]
  }
 ],
 "metadata": {
  "kernelspec": {
   "display_name": "R",
   "language": "R",
   "name": "ir"
  },
  "language_info": {
   "codemirror_mode": "r",
   "file_extension": ".r",
   "mimetype": "text/x-r-source",
   "name": "R",
   "pygments_lexer": "r",
   "version": "3.3.1"
  }
 },
 "nbformat": 4,
 "nbformat_minor": 0
}
