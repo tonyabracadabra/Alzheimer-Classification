{
 "cells": [
  {
   "cell_type": "code",
   "execution_count": 7,
   "metadata": {
    "collapsed": false
   },
   "outputs": [],
   "source": [
    "from scipy import io as sio\n",
    "from sklearn.preprocessing import Imputer\n",
    "import numpy as np\n",
    "\n",
    "data_PFC = sio.loadmat(\"../data/GSE44772_PFC_refined.mat\")\n",
    "data_VC = sio.loadmat(\"../data/GSE44772_VC_refined.mat\")\n",
    "data_CR = sio.loadmat(\"../data/GSE44772_CR_refined.mat\")\n",
    "\n",
    "def setRegion(region):\n",
    "    if region == 'PFC':\n",
    "        ourdata = data_PFC\n",
    "    elif region == 'VC':\n",
    "        ourdata = data_VC\n",
    "    elif region == 'CR':\n",
    "        ourdata = data_CR\n",
    "    elif region == 'All':\n",
    "        ourdata = data_All\n",
    "        \n",
    "    inputX = ourdata['X']\n",
    "    # Inpute using median\n",
    "    imp = Imputer(missing_values='NaN', strategy='mean', axis=0)\n",
    "    imp.fit(inputX)\n",
    "    inputX = imp.transform(inputX)\n",
    "    \n",
    "    inputY = ourdata['y'][0,:]\n",
    "    \n",
    "    return inputX, inputY"
   ]
  },
  {
   "cell_type": "code",
   "execution_count": 5,
   "metadata": {
    "collapsed": false
   },
   "outputs": [],
   "source": [
    "inputX_PFC, inputY = setRegion('PFC')\n",
    "inputX_VC, inputY = setRegion('VC')\n",
    "inputX_CR, inputY = setRegion('CR')"
   ]
  },
  {
   "cell_type": "code",
   "execution_count": 8,
   "metadata": {
    "collapsed": false
   },
   "outputs": [
    {
     "name": "stdout",
     "output_type": "stream",
     "text": [
      "[1000]\n",
      "[2000]\n",
      "[3000]\n",
      "[4000]\n",
      "[5000]\n",
      "[6000]\n",
      "[7000]\n",
      "[8000]\n",
      "[9000]\n",
      "[10000]\n",
      "[11000]\n",
      "[12000]\n",
      "[13000]\n",
      "[14000]\n",
      "[15000]\n",
      "[16000]\n",
      "[17000]\n",
      "[18000]\n",
      "[19000]\n",
      "[20000]\n",
      "[21000]\n",
      "[22000]\n",
      "[23000]\n",
      "[24000]\n",
      "[25000]\n",
      "[26000]\n",
      "[27000]\n",
      "[28000]\n",
      "[29000]\n",
      "[30000]\n",
      "[31000]\n",
      "[32000]\n",
      "[33000]\n",
      "[34000]\n",
      "[35000]\n",
      "[36000]\n",
      "[37000]\n",
      "[38000]\n",
      "[39000]\n",
      "[40000]\n",
      "[41000]\n",
      "[42000]\n",
      "[43000]\n",
      "[44000]\n",
      "[45000]\n",
      "[46000]\n",
      "[47000]\n",
      "[48000]\n",
      "[49000]\n",
      "[50000]\n",
      "[51000]\n",
      "[52000]\n",
      "[53000]\n",
      "[54000]\n"
     ]
    }
   ],
   "source": [
    "from sklearn.mixture import GMM\n",
    "\n",
    "gmm = GMM(n_components=2)\n",
    "\n",
    "def gmmDiscretize(x):\n",
    "    counter[0] += 1\n",
    "    if counter[0] % 1000 == 0:\n",
    "        print counter\n",
    "    return gmm.fit_predict(np.expand_dims(x,axis=1))\n",
    "\n",
    "counter = [0]\n",
    "\n",
    "newX_PFC_gmm = np.apply_along_axis(gmmDiscretize, 0, inputX_PFC)\n",
    "newX_VC_gmm = np.apply_along_axis(gmmDiscretize, 0, inputX_VC)\n",
    "newX_CR_gmm = np.apply_along_axis(gmmDiscretize, 0, inputX_CR)"
   ]
  },
  {
   "cell_type": "code",
   "execution_count": 13,
   "metadata": {
    "collapsed": false
   },
   "outputs": [
    {
     "name": "stdout",
     "output_type": "stream",
     "text": [
      "[1000]\n",
      "[2000]\n",
      "[3000]\n",
      "[4000]\n",
      "[5000]\n",
      "[6000]\n",
      "[7000]\n",
      "[8000]\n",
      "[9000]\n",
      "[10000]\n",
      "[11000]\n",
      "[12000]\n",
      "[13000]\n",
      "[14000]\n",
      "[15000]\n",
      "[16000]\n",
      "[17000]\n",
      "[18000]\n",
      "[19000]\n",
      "[20000]\n",
      "[21000]\n",
      "[22000]\n",
      "[23000]\n",
      "[24000]\n",
      "[25000]\n",
      "[26000]\n",
      "[27000]\n",
      "[28000]\n",
      "[29000]\n",
      "[30000]\n",
      "[31000]\n",
      "[32000]\n",
      "[33000]\n",
      "[34000]\n",
      "[35000]\n",
      "[36000]\n",
      "[37000]\n",
      "[38000]\n",
      "[39000]\n",
      "[40000]\n",
      "[41000]\n",
      "[42000]\n",
      "[43000]\n",
      "[44000]\n",
      "[45000]\n",
      "[46000]\n",
      "[47000]\n",
      "[48000]\n",
      "[49000]\n",
      "[50000]\n",
      "[51000]\n",
      "[52000]\n",
      "[53000]\n",
      "[54000]\n"
     ]
    }
   ],
   "source": [
    "from sklearn.mixture import GMM\n",
    "\n",
    "gmm = GMM(n_components=2)\n",
    "\n",
    "def medianDiscretize(x):\n",
    "    counter[0] += 1\n",
    "    if counter[0] % 1000 == 0:\n",
    "        print counter\n",
    "    median = np.median(x)\n",
    "    x_new = np.copy(x)\n",
    "    x_new[x<median] = 0\n",
    "    x_new[x>=median] = 1\n",
    "    return x_new\n",
    "\n",
    "counter = [0]\n",
    "\n",
    "newX_PFC_median = np.apply_along_axis(medianDiscretize, 0, inputX_PFC)\n",
    "newX_VC_median = np.apply_along_axis(medianDiscretize, 0, inputX_VC)\n",
    "newX_CR_median = np.apply_along_axis(medianDiscretize, 0, inputX_CR)"
   ]
  },
  {
   "cell_type": "code",
   "execution_count": 16,
   "metadata": {
    "collapsed": false
   },
   "outputs": [
    {
     "name": "stdout",
     "output_type": "stream",
     "text": [
      "0\n",
      "1000\n",
      "2000\n",
      "3000\n",
      "4000\n",
      "5000\n",
      "6000\n",
      "7000\n",
      "8000\n",
      "9000\n",
      "10000\n",
      "11000\n",
      "12000\n",
      "13000\n",
      "14000\n",
      "15000\n",
      "16000\n",
      "17000\n",
      "18000\n",
      "0\n",
      "1000\n",
      "2000\n",
      "3000\n",
      "4000\n",
      "5000\n",
      "6000\n",
      "7000\n",
      "8000\n",
      "9000\n",
      "10000\n",
      "11000\n",
      "12000\n",
      "13000\n",
      "14000\n",
      "15000\n",
      "16000\n",
      "17000\n",
      "18000\n",
      "0\n",
      "1000\n",
      "2000\n",
      "3000\n",
      "4000\n",
      "5000\n",
      "6000\n",
      "7000\n",
      "8000\n",
      "9000\n",
      "10000\n",
      "11000\n",
      "12000\n",
      "13000\n",
      "14000\n",
      "15000\n",
      "16000\n",
      "17000\n",
      "18000\n"
     ]
    }
   ],
   "source": [
    "igs_PFC_median = getIGS(newX_PFC_median)\n",
    "igs_VC_median = getIGS(newX_VC_median)\n",
    "igs_CR_median = getIGS(newX_CR_median)"
   ]
  },
  {
   "cell_type": "code",
   "execution_count": 15,
   "metadata": {
    "collapsed": false
   },
   "outputs": [
    {
     "name": "stdout",
     "output_type": "stream",
     "text": [
      "0\n",
      "1000\n",
      "2000\n",
      "3000\n",
      "4000\n",
      "5000\n",
      "6000\n",
      "7000\n",
      "8000\n",
      "9000\n",
      "10000\n",
      "11000\n",
      "12000\n",
      "13000\n",
      "14000\n",
      "15000\n",
      "16000\n",
      "17000\n",
      "18000\n",
      "0\n",
      "1000\n",
      "2000\n",
      "3000\n",
      "4000\n",
      "5000\n",
      "6000\n",
      "7000\n",
      "8000\n",
      "9000\n",
      "10000\n",
      "11000\n",
      "12000\n",
      "13000\n",
      "14000\n",
      "15000\n",
      "16000\n",
      "17000\n",
      "18000\n",
      "0\n",
      "1000\n",
      "2000\n",
      "3000\n",
      "4000\n",
      "5000\n",
      "6000\n",
      "7000\n",
      "8000\n",
      "9000\n",
      "10000\n",
      "11000\n",
      "12000\n",
      "13000\n",
      "14000\n",
      "15000\n",
      "16000\n",
      "17000\n",
      "18000\n"
     ]
    }
   ],
   "source": [
    "igs_PFC_gmm = getIGS(newX_PFC_gmm)\n",
    "igs_VC_gmm = getIGS(newX_VC_gmm)\n",
    "igs_CR_gmm = getIGS(newX_CR_gmm)"
   ]
  },
  {
   "cell_type": "code",
   "execution_count": 19,
   "metadata": {
    "collapsed": false
   },
   "outputs": [],
   "source": [
    "sio.savemat(\"../data/PFC_IG_refined.mat\", {\"gmm\":{\"x\":newX_PFC_gmm, \"ig\":igs_PFC_gmm}, \"median\":{\"x\":newX_PFC_median,\"ig\":igs_PFC_median}})\n",
    "sio.savemat(\"../data/CR_IG_refined.mat\", {\"gmm\":{\"x\":newX_CR_gmm, \"ig\":igs_CR_gmm}, \"median\":{\"x\":newX_CR_median,\"ig\":igs_CR_median}})\n",
    "sio.savemat(\"../data/VC_IG_refined.mat\", {\"gmm\":{\"x\":newX_VC_gmm, \"ig\":igs_VC_gmm}, \"median\":{\"x\":newX_VC_median,\"ig\":igs_VC_median}})"
   ]
  },
  {
   "cell_type": "code",
   "execution_count": 9,
   "metadata": {
    "collapsed": false
   },
   "outputs": [],
   "source": [
    "from scipy.stats import entropy\n",
    "\n",
    "def getIGS(newX):\n",
    "    n_sample, n_feature = newX.shape[0], newX.shape[1]\n",
    "    igs = []\n",
    "    ori_entropy = entropy([len(inputY[inputY==0]),len(inputY[inputY==1])])\n",
    "\n",
    "    for i in xrange(n_feature):\n",
    "        if i % 1000 == 0:\n",
    "            print i\n",
    "\n",
    "        zero = inputY[newX[:,i]==0]\n",
    "        one = inputY[newX[:,i]==1]\n",
    "\n",
    "        if len(zero) != 0:\n",
    "            entropy_zero = entropy([len(zero[zero==0]),len(zero[zero==1])])\n",
    "        else:\n",
    "            entropy_zero = 0\n",
    "\n",
    "        if len(one) != 0:\n",
    "            entropy_one = entropy([len(one[one==0]),len(one[one==1])])\n",
    "        else:\n",
    "            entropy_one = 0\n",
    "\n",
    "        igs.append(ori_entropy-(len(zero)*entropy_zero*1.0/n_sample)-(len(one)*entropy_one*1.0/n_sample))\n",
    "    \n",
    "    return igs"
   ]
  },
  {
   "cell_type": "code",
   "execution_count": 60,
   "metadata": {
    "collapsed": false
   },
   "outputs": [],
   "source": [
    "x = newX[i,:]==04"
   ]
  },
  {
   "cell_type": "code",
   "execution_count": 105,
   "metadata": {
    "collapsed": false
   },
   "outputs": [],
   "source": [
    "if np.inf == 10:\n",
    "    print 1"
   ]
  },
  {
   "cell_type": "code",
   "execution_count": 183,
   "metadata": {
    "collapsed": false
   },
   "outputs": [],
   "source": [
    "sio.savemat(\"PFC_IG.mat\", {\"binaryX\":newX, \"IG\":igs_PFC})"
   ]
  },
  {
   "cell_type": "code",
   "execution_count": 182,
   "metadata": {
    "collapsed": false
   },
   "outputs": [
    {
     "name": "stdout",
     "output_type": "stream",
     "text": [
      "0\n",
      "1000\n",
      "2000\n",
      "3000\n",
      "4000\n",
      "5000\n",
      "6000\n",
      "7000\n",
      "8000\n",
      "9000\n",
      "10000\n",
      "11000\n",
      "12000\n",
      "13000\n",
      "14000\n",
      "15000\n",
      "16000\n",
      "17000\n",
      "18000\n",
      "19000\n",
      "20000\n",
      "21000\n",
      "22000\n",
      "23000\n",
      "24000\n",
      "25000\n",
      "26000\n",
      "27000\n",
      "28000\n",
      "29000\n",
      "30000\n",
      "31000\n",
      "32000\n",
      "33000\n",
      "34000\n",
      "35000\n",
      "36000\n",
      "37000\n",
      "38000\n",
      "39000\n"
     ]
    }
   ],
   "source": [
    "igs_PFC_ = getIGS(newX)"
   ]
  }
 ],
 "metadata": {
  "kernelspec": {
   "display_name": "Python 2",
   "language": "python",
   "name": "python2"
  },
  "language_info": {
   "codemirror_mode": {
    "name": "ipython",
    "version": 2
   },
   "file_extension": ".py",
   "mimetype": "text/x-python",
   "name": "python",
   "nbconvert_exporter": "python",
   "pygments_lexer": "ipython2",
   "version": "2.7.12"
  }
 },
 "nbformat": 4,
 "nbformat_minor": 0
}
