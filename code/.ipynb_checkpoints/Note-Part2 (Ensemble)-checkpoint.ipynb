{
 "cells": [
  {
   "cell_type": "markdown",
   "metadata": {},
   "source": [
    "# Load the weights files from the folder ../weights"
   ]
  },
  {
   "cell_type": "code",
   "execution_count": 1,
   "metadata": {
    "collapsed": false
   },
   "outputs": [],
   "source": [
    "from sklearn.preprocessing import normalize\n",
    "import numpy as np\n",
    "\n",
    "# Substitute the weights file you have just generated\n",
    "weights_CR = np.load(\"./weights/weights_CR.npy\")\n",
    "weights_PFC = np.load(\"./weights/weights_PFC.npy\")\n",
    "weights_VC = np.load(\"./weights/weights_VC.npy\")\n",
    "\n",
    "# Substitute the xgboost model you have generated\n",
    "# indexes_xgboost = np.load(\"./weights/indexes_xgboost.npy\")"
   ]
  },
  {
   "cell_type": "code",
   "execution_count": 49,
   "metadata": {
    "collapsed": false
   },
   "outputs": [],
   "source": [
    "data_VC['ID'][:,1]\n",
    "\n",
    "import pandas as pd\n",
    "\n",
    "annotation = pd.read_csv('../annotation.csv')"
   ]
  },
  {
   "cell_type": "code",
   "execution_count": null,
   "metadata": {
    "collapsed": false
   },
   "outputs": [],
   "source": []
  },
  {
   "cell_type": "code",
   "execution_count": 162,
   "metadata": {
    "collapsed": false
   },
   "outputs": [],
   "source": [
    "ro_id = annotation.ix[:,1].values\n",
    "entrez = annotation.ix[:,2].values\n",
    "genbank = annotation.ix[:,4].values"
   ]
  },
  {
   "cell_type": "code",
   "execution_count": 210,
   "metadata": {
    "collapsed": false
   },
   "outputs": [],
   "source": [
    "mappingGenbank = {ro_id[i]:genbank[i] for i in xrange(39302)}\n",
    "mappingEntrez = {ro_id[i]:entrez[i] for i in xrange(39302)}"
   ]
  },
  {
   "cell_type": "code",
   "execution_count": 82,
   "metadata": {
    "collapsed": false
   },
   "outputs": [],
   "source": [
    "genbank_list = np.array([mapping[i] for i in data_VC['ID'][:,1]]).astype(str)"
   ]
  },
  {
   "cell_type": "code",
   "execution_count": 106,
   "metadata": {
    "collapsed": false
   },
   "outputs": [],
   "source": [
    "index_nonNA = np.array(np.where(genbank_list!='nan'))[0]"
   ]
  },
  {
   "cell_type": "code",
   "execution_count": 114,
   "metadata": {
    "collapsed": false
   },
   "outputs": [
    {
     "data": {
      "text/plain": [
       "(37138,)"
      ]
     },
     "execution_count": 114,
     "metadata": {},
     "output_type": "execute_result"
    }
   ],
   "source": [
    "index_nonNA.shape"
   ]
  },
  {
   "cell_type": "code",
   "execution_count": 90,
   "metadata": {
    "collapsed": false
   },
   "outputs": [],
   "source": [
    "genbank_nonNA_list = genbank_list[genbank_list!='nan']"
   ]
  },
  {
   "cell_type": "code",
   "execution_count": 93,
   "metadata": {
    "collapsed": false
   },
   "outputs": [],
   "source": [
    "# for i in genbank_nonNA_list:\n",
    "#     print i"
   ]
  },
  {
   "cell_type": "code",
   "execution_count": 116,
   "metadata": {
    "collapsed": false
   },
   "outputs": [],
   "source": [
    "temp = np.concatenate((index_nonNA.reshape(37138,1),genbank_nonNA_list.reshape(37138,1)),axis=1)"
   ]
  },
  {
   "cell_type": "code",
   "execution_count": 117,
   "metadata": {
    "collapsed": false
   },
   "outputs": [
    {
     "data": {
      "text/plain": [
       "(37138, 2)"
      ]
     },
     "execution_count": 117,
     "metadata": {},
     "output_type": "execute_result"
    }
   ],
   "source": [
    "temp.shape"
   ]
  },
  {
   "cell_type": "code",
   "execution_count": 120,
   "metadata": {
    "collapsed": false
   },
   "outputs": [],
   "source": [
    "dataframe = pd.DataFrame(temp)\n",
    "\n",
    "dataframe.to_csv(\"genebank_list_nonNA.csv\")"
   ]
  },
  {
   "cell_type": "markdown",
   "metadata": {},
   "source": [
    "# Load the data"
   ]
  },
  {
   "cell_type": "code",
   "execution_count": 225,
   "metadata": {
    "collapsed": false
   },
   "outputs": [],
   "source": [
    "from scipy import io as sio\n",
    "from sklearn.preprocessing import Imputer\n",
    "\n",
    "data_PFC = sio.loadmat(\"/Volumes/TONY/LabWW/Alzheimer/GSE44772/GSE44772_PFC.mat\")\n",
    "data_VC = sio.loadmat(\"/Volumes/TONY/LabWW/Alzheimer/GSE44772/GSE44772_VC.mat\")\n",
    "data_CR = sio.loadmat(\"/Volumes/TONY/LabWW/Alzheimer/GSE44772/GSE44772_CR.mat\")\n",
    "\n",
    "def setRegion(region):\n",
    "    if region == 'PFC':\n",
    "        ourdata = data_PFC\n",
    "    elif region == 'VC':\n",
    "        ourdata = data_VC\n",
    "    elif region == 'CR':\n",
    "        ourdata = data_CR\n",
    "    elif region == 'All':\n",
    "        ourdata = data_All\n",
    "        \n",
    "    inputX = ourdata['X']\n",
    "    # Inpute using median\n",
    "    imp = Imputer(missing_values='NaN', strategy='mean', axis=0)\n",
    "    imp.fit(inputX)\n",
    "    inputX = imp.transform(inputX)\n",
    "    \n",
    "    inputY = ourdata['y'][0,:]\n",
    "    \n",
    "    ID = ourdata['ID'][:,1]\n",
    "    \n",
    "    return inputX, inputY, ID"
   ]
  },
  {
   "cell_type": "code",
   "execution_count": 261,
   "metadata": {
    "collapsed": false
   },
   "outputs": [],
   "source": [
    "weights_dfs = weights_VC\n",
    "inputX, inputY, ID = setRegion('CR')\n",
    "IG = sio.loadmat('../data/VC_IG.mat')\n",
    "ig = IG['IG'][0]\n",
    "\n",
    "best, index_best = unionDFSfeatures(16)\n",
    "best_entrez = np.array([mappingEntrez[ID[i]] for i in index_best]).astype(int)\n",
    "best_genbank = np.array([mappingGenbank[ID[i]] for i in index_best])"
   ]
  },
  {
   "cell_type": "code",
   "execution_count": 262,
   "metadata": {
    "collapsed": false
   },
   "outputs": [],
   "source": [
    "refinedBest = list(np.array(index_best)[list(np.where(best_entrez>0)[0])])"
   ]
  },
  {
   "cell_type": "code",
   "execution_count": 270,
   "metadata": {
    "collapsed": false
   },
   "outputs": [
    {
     "name": "stdout",
     "output_type": "stream",
     "text": [
      "5881\n",
      "7139\n",
      "590\n",
      "5860\n",
      "6189\n",
      "1281\n",
      "6363\n",
      "2922\n",
      "10396\n",
      "8277\n",
      "51478\n",
      "58\n",
      "9547\n",
      "2914\n",
      "4308\n",
      "253260\n",
      "1909\n",
      "387119\n",
      "9450\n",
      "1846\n",
      "1668\n",
      "54970\n",
      "722\n",
      "9636\n",
      "157562\n",
      "2205\n",
      "2168\n",
      "4072\n",
      "4222\n",
      "23632\n",
      "4969\n",
      "1580\n",
      "330\n",
      "654433\n",
      "4929\n",
      "23539\n",
      "25974\n",
      "762\n",
      "8869\n",
      "1604\n",
      "8857\n",
      "7200\n",
      "6997\n",
      "1357\n",
      "4602\n",
      "9620\n",
      "6279\n",
      "64805\n",
      "116173\n",
      "84873\n",
      "90865\n",
      "84624\n",
      "79785\n",
      "60677\n",
      "89122\n",
      "85459\n",
      "55450\n",
      "29005\n",
      "81285\n",
      "378925\n",
      "113675\n",
      "81578\n",
      "3494\n",
      "3565\n",
      "8364\n",
      "4969\n",
      "154197\n",
      "2944\n",
      "4223\n",
      "1285\n",
      "84549\n",
      "3127\n",
      "10863\n",
      "283651\n",
      "112849\n",
      "820\n",
      "11068\n",
      "23519\n",
      "8337\n",
      "338382\n",
      "81848\n",
      "147111\n",
      "91612\n",
      "7097\n",
      "158160\n",
      "259282\n",
      "3607\n",
      "79722\n",
      "8864\n",
      "139411\n",
      "2957\n",
      "6387\n",
      "160365\n",
      "122622\n",
      "89122\n",
      "283588\n",
      "4719\n",
      "8125\n",
      "56902\n",
      "23049\n",
      "56061\n",
      "7678\n",
      "55130\n",
      "25893\n",
      "124404\n",
      "256076\n",
      "8367\n",
      "2953\n",
      "1524\n",
      "51621\n",
      "6512\n",
      "348751\n",
      "441521\n",
      "389833\n",
      "388649\n",
      "441733\n",
      "403253\n",
      "388616\n",
      "344901\n",
      "441304\n",
      "54014\n",
      "349408\n",
      "440885\n",
      "340900\n",
      "283755\n",
      "256483\n",
      "132706\n",
      "285735\n",
      "3117\n",
      "8938\n",
      "3124\n",
      "440138\n",
      "440993\n",
      "340980\n",
      "8013\n",
      "3250\n",
      "1066\n",
      "2952\n"
     ]
    }
   ],
   "source": [
    "for i in best_entrez[best_entrez>0]:\n",
    "    print i"
   ]
  },
  {
   "cell_type": "code",
   "execution_count": 267,
   "metadata": {
    "collapsed": false
   },
   "outputs": [
    {
     "data": {
      "text/plain": [
       "0.94800287799362726"
      ]
     },
     "execution_count": 267,
     "metadata": {},
     "output_type": "execute_result"
    }
   ],
   "source": [
    "np.mean(cross_val_score(svm, inputX[:, refinedBest], inputY, cv=5))"
   ]
  },
  {
   "cell_type": "code",
   "execution_count": 233,
   "metadata": {
    "collapsed": false
   },
   "outputs": [
    {
     "data": {
      "text/plain": [
       "array([ 54360,   1415,   1038,    341,   4751,   2944,   6363, 340390,\n",
       "          794,   4336,   4308,    721,   7276,   2205,   2168,   4072,\n",
       "         4222, 654433, 645733,  55040,   3291,   1066,  11197,   1608,\n",
       "        85004,  91646,  90865,   5173,  93377, 378938,   9204,   1285,\n",
       "        84549,   1823, 168400,   9081,   4887,   4336, 167681,  91612,\n",
       "        55180, 139422,   8471,   4232,  28965,  56129,    284,  89122,\n",
       "         3082,  56061,   2953,   1524,   5935, 348751, 219347, 388649,\n",
       "       441733, 387700, 200491, 387643,  23030, 401491,  90271,   9356,\n",
       "         6570,   1066,    720])"
      ]
     },
     "execution_count": 233,
     "metadata": {},
     "output_type": "execute_result"
    }
   ],
   "source": [
    "for i in best_entrez[best_entrez>0]:\n",
    "    "
   ]
  },
  {
   "cell_type": "code",
   "execution_count": 269,
   "metadata": {
    "collapsed": false
   },
   "outputs": [
    {
     "data": {
      "text/plain": [
       "138"
      ]
     },
     "execution_count": 269,
     "metadata": {},
     "output_type": "execute_result"
    }
   ],
   "source": [
    "len(refinedBest)"
   ]
  },
  {
   "cell_type": "markdown",
   "metadata": {},
   "source": [
    "# Functions that regenerate the input data X based on different standards"
   ]
  },
  {
   "cell_type": "code",
   "execution_count": 206,
   "metadata": {
    "collapsed": false
   },
   "outputs": [],
   "source": [
    "# Averaging the weights based on the sum of all the normalized weights\n",
    "averagedWeight = weights_dfs.sum(axis=0)\n",
    "# ranking indexes for DFS (Average)\n",
    "indexes_average_dfs = np.argsort(averagedWeight)[::-1]\n",
    "\n",
    "# Select features in rank [a, b] from average DFS model, and also the indexes of these features\n",
    "def topAveDFSfeatures(a,b):\n",
    "    return inputX[:, indexes_average_dfs.tolist()[a:b]], indexes_average_dfs.tolist()[a:b]\n",
    "\n",
    "# Select the union of top N features from each of the DFS model, and also the indexes of these features\n",
    "def unionDFSfeatures(n):\n",
    "    indexes_union = []\n",
    "    for i in xrange(30):\n",
    "        indexes_union.append(np.argsort(weights_dfs[i])[::-1][:n].tolist())\n",
    "        \n",
    "    union = reduce(np.union1d, indexes_union).tolist()\n",
    "#     print(\"Number of union features:\", len(union))\n",
    "    \n",
    "    return inputX[:, union], union\n",
    "\n",
    "# Select the intersection of top N features from each of the DFS model, and also the indexes of these features\n",
    "def intersectDFSfeatures(n):\n",
    "    indexes_intersect = []\n",
    "    for i in xrange(30):\n",
    "        indexes_intersect.append(np.argsort(weights_dfs[i])[::-1][:n].tolist())\n",
    "    \n",
    "    intersected = reduce(np.intersect1d, indexes_intersect).tolist()\n",
    "#     print(\"Number of intersected features:\",len(intersected))\n",
    "    return inputX[:, intersected], intersected\n",
    "\n",
    "# Select features in rank [a, b] from each of the XGBoost model, and also the indexes of these features\n",
    "def topXGBoostfeatures(a,b):\n",
    "    return inputX[:, indexes_xgboost.tolist()[a:b]], indexes_xgboost.tolist()[a:b]\n",
    "\n",
    "# SSelect features in rank [a, b] from one of the DFS model (n stands for which single model), \n",
    "# and also the indexes of these features\n",
    "def pickOneDFSfeatures(a,b,n):\n",
    "    indexx = np.argsort(weights_dfs[n])[::-1]\n",
    "    return inputX[:, indexx.tolist()[a:b]], indexx.tolist()[a:b]"
   ]
  },
  {
   "cell_type": "code",
   "execution_count": 259,
   "metadata": {
    "collapsed": false
   },
   "outputs": [
    {
     "name": "stdout",
     "output_type": "stream",
     "text": [
      "1\n",
      "('Union:', 0.93486278137526979)\n",
      "2\n",
      "('Union:', 0.92625552471990957)\n",
      "3\n",
      "('Union:', 0.95234659266111632)\n",
      "4\n",
      "('Union:', 0.95253982937609205)\n",
      "5\n",
      "('Union:', 0.96956110597183665)\n",
      "6\n",
      "('Union:', 0.9653982937609209)\n",
      "7\n",
      "('Union:', 0.96955699455236921)\n",
      "8\n",
      "('Union:', 0.96927536231884059)\n",
      "9\n",
      "('Union:', 0.95651351629149972)\n",
      "10\n",
      "('Union:', 0.96946448761434889)\n",
      "11\n",
      "('Union:', 0.97371980676328496)\n",
      "12\n",
      "('Union:', 0.97371980676328496)\n",
      "13\n",
      "('Union:', 0.96502004316990442)\n",
      "14\n",
      "('Union:', 0.96502004316990442)\n",
      "15\n",
      "('Union:', 0.96946448761434889)\n",
      "16\n",
      "('Union:', 0.97816425120772943)\n",
      "17\n",
      "('Union:', 0.97390893205879325)\n",
      "18\n",
      "('Union:', 0.97390893205879325)\n",
      "19\n",
      "('Union:', 0.97381642512077293)\n",
      "DFS Union has been ran.\n",
      "('Ave:', 0.55227669853016759)\n",
      "('Ave:', 0.57430157261794634)\n",
      "('Ave:', 0.57411244732243794)\n",
      "('Ave:', 0.65636344948093339)\n",
      "('Ave:', 0.64350498509610443)\n",
      "('Ave:', 0.64776030424504061)\n",
      "('Ave:', 0.68651659985610036)\n",
      "('Ave:', 0.83512796793092825)\n",
      "('Ave:', 0.82208448967005876)\n",
      "('Ave:', 0.84788570253880147)\n",
      "('Ave:', 0.8479864323157571)\n",
      "('Ave:', 0.86519272278754245)\n",
      "('Ave:', 0.8911871723712611)\n",
      "('Ave:', 0.88693185322232504)\n",
      "('Ave:', 0.91321204645904008)\n",
      "('Ave:', 0.91321204645904008)\n",
      "('Ave:', 0.90886422037208336)\n",
      "('Ave:', 0.91755987254599647)\n",
      "('Ave:', 0.91755987254599647)\n",
      "('Ave:', 0.92210093534792892)\n",
      "('Ave:', 0.90896083872957134)\n",
      "('Ave:', 0.91330866481652806)\n",
      "('Ave:', 0.91330866481652806)\n",
      "('Ave:', 0.91756398396546412)\n",
      "('Ave:', 0.89553499845821771)\n",
      "('Ave:', 0.89988282454517421)\n",
      "('Ave:', 0.90877171343406304)\n",
      "('Ave:', 0.91756398396546412)\n",
      "('Ave:', 0.90877171343406304)\n",
      "('Ave:', 0.90877171343406304)\n",
      "('Ave:', 0.91311953952101965)\n",
      "('Ave:', 0.91311953952101965)\n",
      "('Ave:', 0.91311953952101965)\n",
      "('Ave:', 0.90877171343406304)\n",
      "('Ave:', 0.89997944290266219)\n",
      "('Ave:', 0.89563161681570558)\n",
      "('Ave:', 0.89127967930928165)\n",
      "('Ave:', 0.89562750539623792)\n",
      "('Ave:', 0.88693185322232504)\n",
      "('Ave:', 0.89553499845821771)\n",
      "('Ave:', 0.89563161681570558)\n",
      "('Ave:', 0.88712097851783334)\n",
      "('Ave:', 0.89581663069174622)\n",
      "('Ave:', 0.89146880460478983)\n",
      "('Ave:', 0.90441566450817135)\n",
      "('Ave:', 0.90441566450817135)\n",
      "('Ave:', 0.90451228286565954)\n",
      "('Ave:', 0.89581663069174622)\n",
      "('Ave:', 0.88267242265392132)\n",
      "('Ave:', 0.88702436016034536)\n",
      "('Ave:', 0.87388426354198789)\n",
      "('Ave:', 0.87388426354198789)\n",
      "('Ave:', 0.87388426354198789)\n",
      "('Ave:', 0.87388426354198789)\n",
      "('Ave:', 0.87832870798643226)\n",
      "('Ave:', 0.87832870798643226)\n",
      "('Ave:', 0.88267653407338886)\n",
      "('Ave:', 0.87842532634392023)\n",
      "('Ave:', 0.87417000719498394)\n",
      "('Ave:', 0.88286565936889705)\n",
      "('Ave:', 0.88277315243087673)\n",
      "('Ave:', 0.87407750025696385)\n",
      "('Ave:', 0.89147291602425738)\n",
      "('Ave:', 0.9002610751361908)\n",
      "('Ave:', 0.89591324904923419)\n",
      "('Ave:', 0.89591324904923442)\n",
      "('Ave:', 0.89591324904923442)\n",
      "('Ave:', 0.89600986740672217)\n",
      "('Ave:', 0.89156542296227781)\n",
      "('Ave:', 0.89600986740672217)\n",
      "('Ave:', 0.90035769349367867)\n",
      "('Ave:', 0.90470551958063528)\n",
      "('Ave:', 0.90035769349367867)\n",
      "('Ave:', 0.90016856819817048)\n",
      "('Ave:', 0.90016856819817048)\n",
      "('Ave:', 0.90896083872957134)\n",
      "('Ave:', 0.90470551958063528)\n",
      "('Ave:', 0.90905334566759177)\n",
      "('Ave:', 0.89591324904923419)\n",
      "('Ave:', 0.90016856819817048)\n",
      "('Ave:', 0.90451639428512698)\n",
      "('Ave:', 0.90442388734710666)\n",
      "('Ave:', 0.90442388734710666)\n",
      "('Ave:', 0.89582074211121387)\n",
      "('Ave:', 0.89582074211121387)\n",
      "('Ave:', 0.89582074211121387)\n",
      "('Ave:', 0.89582074211121387)\n",
      "('Ave:', 0.89582074211121387)\n",
      "('Ave:', 0.89582074211121387)\n",
      "('Ave:', 0.90007606126015016)\n",
      "('Ave:', 0.90007606126015016)\n",
      "('Ave:', 0.90007606126015016)\n",
      "('Ave:', 0.89582074211121387)\n",
      "('Ave:', 0.90016856819817048)\n",
      "('Ave:', 0.90016856819817048)\n",
      "('Ave:', 0.90016856819817048)\n",
      "('Ave:', 0.89147291602425738)\n",
      "('Ave:', 0.89147291602425738)\n",
      "('Ave:', 0.89147291602425738)\n",
      "('Ave:', 0.89591736046870185)\n",
      "('Ave:', 0.88712508993730099)\n",
      "('Ave:', 0.88712508993730099)\n",
      "('Ave:', 0.8958207421112141)\n",
      "('Ave:', 0.8958207421112141)\n",
      "('Ave:', 0.88712508993730099)\n",
      "('Ave:', 0.88712508993730099)\n",
      "('Ave:', 0.88712508993730099)\n",
      "('Ave:', 0.88712508993730099)\n",
      "('Ave:', 0.89582074211121387)\n",
      "('Ave:', 0.89147291602425738)\n",
      "('Ave:', 0.89591736046870185)\n",
      "('Ave:', 0.89147291602425738)\n",
      "('Ave:', 0.89147291602425738)\n",
      "('Ave:', 0.89147291602425738)\n",
      "('Ave:', 0.89147291602425738)\n",
      "('Ave:', 0.89591736046870185)\n",
      "('Ave:', 0.88722170829478875)\n",
      "('Ave:', 0.90470963100010271)\n",
      "('Ave:', 0.90470963100010271)\n",
      "('Ave:', 0.90470963100010271)\n",
      "('Ave:', 0.90470963100010271)\n",
      "('Ave:', 0.90470963100010271)\n",
      "('Ave:', 0.90470963100010271)\n",
      "('Ave:', 0.90470963100010271)\n",
      "('Ave:', 0.90026518655565835)\n",
      "('Ave:', 0.91322026929797517)\n",
      "('Ave:', 0.91322026929797517)\n",
      "('Ave:', 0.91322026929797517)\n",
      "('Ave:', 0.91322026929797517)\n",
      "('Ave:', 0.91322026929797517)\n",
      "('Ave:', 0.91322026929797517)\n",
      "('Ave:', 0.91322026929797517)\n",
      "('Ave:', 0.91322026929797517)\n",
      "('Ave:', 0.91322026929797517)\n",
      "('Ave:', 0.90036180491314632)\n",
      "('Ave:', 0.90036180491314632)\n",
      "('Ave:', 0.89156953438174535)\n",
      "('Ave:', 0.89156953438174535)\n",
      "('Ave:', 0.89156953438174535)\n",
      "('Ave:', 0.88712508993730099)\n",
      "('Ave:', 0.88702847157981302)\n",
      "('Ave:', 0.90016856819817048)\n",
      "('Ave:', 0.90016856819817048)\n",
      "('Ave:', 0.90896083872957134)\n",
      "('Ave:', 0.91765649090348445)\n",
      "('Ave:', 0.91765649090348445)\n",
      "('Ave:', 0.91765649090348445)\n",
      "('Ave:', 0.91340117175454816)\n",
      "('Ave:', 0.91330866481652784)\n",
      "('Ave:', 0.91330866481652784)\n",
      "('Ave:', 0.90045020043169899)\n",
      "('Ave:', 0.90045020043169899)\n",
      "('Ave:', 0.9047980265186556)\n",
      "('Ave:', 0.9047980265186556)\n",
      "('Ave:', 0.90914585260561209)\n",
      "('Ave:', 0.90045020043169899)\n",
      "('Ave:', 0.90045020043169899)\n",
      "('Ave:', 0.90045020043169899)\n",
      "('Ave:', 0.90045020043169899)\n",
      "('Ave:', 0.90045020043169899)\n",
      "('Ave:', 0.89610237434474249)\n",
      "('Ave:', 0.90045020043169899)\n",
      "('Ave:', 0.90470551958063528)\n",
      "('Ave:', 0.90905334566759177)\n",
      "('Ave:', 0.90905334566759177)\n",
      "('Ave:', 0.90470551958063528)\n",
      "('Ave:', 0.90470551958063528)\n",
      "('Ave:', 0.90035769349367867)\n",
      "('Ave:', 0.90470551958063528)\n",
      "('Ave:', 0.90470551958063528)\n",
      "('Ave:', 0.90470551958063528)\n",
      "('Ave:', 0.90470551958063528)\n",
      "('Ave:', 0.90470551958063528)\n",
      "('Ave:', 0.90470551958063528)\n",
      "('Ave:', 0.90470551958063528)\n",
      "('Ave:', 0.90470551958063528)\n",
      "('Ave:', 0.89610237434474249)\n",
      "('Ave:', 0.89610237434474249)\n",
      "('Ave:', 0.89610237434474249)\n",
      "('Ave:', 0.89610237434474249)\n",
      "('Ave:', 0.89600575598725452)\n",
      "('Ave:', 0.89610237434474249)\n",
      "('Ave:', 0.89610237434474249)\n",
      "('Ave:', 0.88731010381334163)\n",
      "('Ave:', 0.87851783328194055)\n",
      "('Ave:', 0.89591324904923419)\n",
      "('Ave:', 0.89591324904923419)\n",
      "('Ave:', 0.9002610751361908)\n",
      "('Ave:', 0.9002610751361908)\n",
      "('Ave:', 0.9002610751361908)\n",
      "('Ave:', 0.9002610751361908)\n",
      "('Ave:', 0.90470551958063528)\n",
      "('Ave:', 0.9002610751361908)\n",
      "('Ave:', 0.89581663069174622)\n",
      "('Ave:', 0.89581663069174622)\n",
      "('Ave:', 0.89572412375372612)\n",
      "('Ave:', 0.90016856819817048)\n",
      "('Ave:', 0.90016856819817048)\n",
      "('Ave:', 0.89572412375372612)\n",
      "('Ave:', 0.89572412375372612)\n",
      "('Ave:', 0.90016856819817048)\n",
      "('Ave:', 0.90016856819817048)\n",
      "('Ave:', 0.9002610751361908)\n",
      "('Ave:', 0.9002610751361908)\n",
      "('Ave:', 0.9002610751361908)\n",
      "('Ave:', 0.9002610751361908)\n",
      "('Ave:', 0.9002610751361908)\n",
      "('Ave:', 0.9002610751361908)\n",
      "('Ave:', 0.9002610751361908)\n",
      "('Ave:', 0.90451639428512698)\n",
      "('Ave:', 0.89581663069174622)\n",
      "('Ave:', 0.89581663069174622)\n",
      "('Ave:', 0.89581663069174622)\n",
      "('Ave:', 0.89581663069174622)\n",
      "('Ave:', 0.89581663069174622)\n",
      "('Ave:', 0.89581663069174622)\n",
      "('Ave:', 0.89581663069174622)\n",
      "('Ave:', 0.89581663069174622)\n",
      "('Ave:', 0.89581663069174622)\n",
      "('Ave:', 0.89146880460478983)\n",
      "('Ave:', 0.89146880460478983)\n",
      "('Ave:', 0.89146880460478983)\n",
      "('Ave:', 0.89581663069174622)\n",
      "('Ave:', 0.89146880460478983)\n",
      "('Ave:', 0.89146880460478983)\n",
      "('Ave:', 0.89581663069174622)\n",
      "('Ave:', 0.89581663069174622)\n",
      "('Ave:', 0.8958207421112141)\n",
      "('Ave:', 0.8958207421112141)\n",
      "('Ave:', 0.8958207421112141)\n",
      "('Ave:', 0.8958207421112141)\n",
      "('Ave:', 0.8958207421112141)\n",
      "('Ave:', 0.8958207421112141)\n",
      "('Ave:', 0.8958207421112141)\n",
      "('Ave:', 0.89156542296227781)\n",
      "('Ave:', 0.89156542296227781)\n",
      "('Ave:', 0.89156542296227781)\n",
      "('Ave:', 0.89156542296227781)\n",
      "('Ave:', 0.89156542296227781)\n",
      "('Ave:', 0.89156542296227781)\n",
      "('Ave:', 0.89156542296227781)\n",
      "('Ave:', 0.89156542296227781)\n",
      "('Ave:', 0.89156542296227781)\n",
      "('Ave:', 0.89156542296227781)\n",
      "('Ave:', 0.89156542296227781)\n",
      "('Ave:', 0.89156542296227781)\n",
      "('Ave:', 0.89156542296227781)\n",
      "('Ave:', 0.89156542296227781)\n",
      "('Ave:', 0.89156542296227781)\n",
      "('Ave:', 0.89156542296227781)\n",
      "('Ave:', 0.89156542296227781)\n",
      "('Ave:', 0.89156542296227781)\n",
      "('Ave:', 0.89156542296227781)\n",
      "('Ave:', 0.89156542296227781)\n",
      "('Ave:', 0.89156542296227781)\n",
      "DFS average has been ran.\n",
      "('IG:', 0.865369513824648)\n",
      "('IG:', 0.88248329735841291)\n",
      "('IG:', 0.88248329735841291)\n",
      "('IG:', 0.88248329735841291)\n",
      "('IG:', 0.86499537465309895)\n",
      "('IG:', 0.87369102682701205)\n",
      "('IG:', 0.88248329735841291)\n",
      "('IG:', 0.88248329735841291)\n",
      "('IG:', 0.87813547127145652)\n",
      "('IG:', 0.87813547127145652)\n",
      "('IG:', 0.87813547127145652)\n",
      "('IG:', 0.87813547127145652)\n",
      "('IG:', 0.87359440846952408)\n",
      "('IG:', 0.87359440846952408)\n",
      "('IG:', 0.87803885291396855)\n",
      "('IG:', 0.87369102682701205)\n",
      "('IG:', 0.88239079042039259)\n",
      "('IG:', 0.88683523486483706)\n",
      "('IG:', 0.88229417206290461)\n",
      "('IG:', 0.88673861650734909)\n",
      "('IG:', 0.88248329735841291)\n",
      "('IG:', 0.88692774180285738)\n",
      "('IG:', 0.88239079042039259)\n",
      "('IG:', 0.88239079042039259)\n",
      "('IG:', 0.88239079042039259)\n",
      "('IG:', 0.88239079042039259)\n",
      "('IG:', 0.88239079042039259)\n",
      "('IG:', 0.89118306095179345)\n",
      "('IG:', 0.88692774180285738)\n",
      "('IG:', 0.89118306095179345)\n",
      "('IG:', 0.89118306095179345)\n",
      "('IG:', 0.88673861650734909)\n",
      "('IG:', 0.88673861650734909)\n",
      "('IG:', 0.88673861650734909)\n",
      "('IG:', 0.89127556788981399)\n",
      "('IG:', 0.88692774180285738)\n",
      "('IG:', 0.88692774180285738)\n",
      "('IG:', 0.88692774180285738)\n",
      "('IG:', 0.88683112344536963)\n",
      "('IG:', 0.88683112344536963)\n",
      "('IG:', 0.88683112344536963)\n",
      "('IG:', 0.88683112344536963)\n",
      "('IG:', 0.88683112344536963)\n",
      "('IG:', 0.89117894953232601)\n",
      "('IG:', 0.89117894953232601)\n",
      "('IG:', 0.89978620618768623)\n",
      "('IG:', 0.90413403227464284)\n",
      "('IG:', 0.90413403227464284)\n",
      "('IG:', 0.90413403227464284)\n",
      "('IG:', 0.90413403227464284)\n",
      "('IG:', 0.90413403227464284)\n",
      "('IG:', 0.89978620618768623)\n",
      "('IG:', 0.89978620618768623)\n",
      "('IG:', 0.89543838010072974)\n",
      "('IG:', 0.89543838010072974)\n",
      "('IG:', 0.89127556788981399)\n",
      "('IG:', 0.89127556788981399)\n",
      "('IG:', 0.89127556788981399)\n",
      "('IG:', 0.89553088703875017)\n",
      "('IG:', 0.89553088703875017)\n",
      "('IG:', 0.89543838010072974)\n",
      "('IG:', 0.89543838010072974)\n",
      "('IG:', 0.89988282454517421)\n",
      "('IG:', 0.90432315757015114)\n",
      "('IG:', 0.89562339397677049)\n",
      "('IG:', 0.89562339397677049)\n",
      "('IG:', 0.89987871312570655)\n",
      "('IG:', 0.90006783842121507)\n",
      "('IG:', 0.89562339397677049)\n",
      "('IG:', 0.89562339397677049)\n",
      "('IG:', 0.89562339397677049)\n",
      "('IG:', 0.89562339397677049)\n",
      "('IG:', 0.89562339397677049)\n",
      "('IG:', 0.89562339397677049)\n",
      "('IG:', 0.90006783842121507)\n",
      "('IG:', 0.90006783842121507)\n",
      "('IG:', 0.90006783842121507)\n",
      "('IG:', 0.90006783842121507)\n",
      "('IG:', 0.90006783842121507)\n",
      "('IG:', 0.90006783842121507)\n",
      "('IG:', 0.90006783842121507)\n",
      "('IG:', 0.90006783842121507)\n",
      "('IG:', 0.90006783842121507)\n",
      "('IG:', 0.90006783842121507)\n",
      "('IG:', 0.90006783842121507)\n",
      "('IG:', 0.90006783842121507)\n",
      "('IG:', 0.90006783842121507)\n",
      "('IG:', 0.90006783842121507)\n",
      "('IG:', 0.90006783842121507)\n",
      "('IG:', 0.90006783842121507)\n",
      "('IG:', 0.90006783842121507)\n",
      "('IG:', 0.90006783842121507)\n",
      "('IG:', 0.90006783842121507)\n",
      "('IG:', 0.90006783842121507)\n",
      "('IG:', 0.89572001233425846)\n",
      "('IG:', 0.89572001233425846)\n",
      "('IG:', 0.89572001233425846)\n",
      "('IG:', 0.89572001233425846)\n",
      "('IG:', 0.89572001233425846)\n",
      "('IG:', 0.89572001233425846)\n",
      "('IG:', 0.89572001233425846)\n",
      "('IG:', 0.89572001233425846)\n",
      "('IG:', 0.89572001233425846)\n",
      "('IG:', 0.89572001233425846)\n",
      "('IG:', 0.89572001233425846)\n",
      "('IG:', 0.89572001233425846)\n",
      "('IG:', 0.89572001233425846)\n",
      "('IG:', 0.89572001233425846)\n",
      "('IG:', 0.89572001233425846)\n",
      "('IG:', 0.89127556788981399)\n",
      "('IG:', 0.89572001233425846)\n",
      "('IG:', 0.89572001233425846)\n",
      "('IG:', 0.89137218624730186)\n",
      "('IG:', 0.89137218624730186)\n",
      "('IG:', 0.88692774180285738)\n",
      "('IG:', 0.88692774180285738)\n",
      "('IG:', 0.8999712200637271)\n",
      "('IG:', 0.90441566450817157)\n",
      "('IG:', 0.90876349059512795)\n",
      "('IG:', 0.90876349059512795)\n",
      "('IG:', 0.90876349059512795)\n",
      "('IG:', 0.90016034535923528)\n",
      "('IG:', 0.90450817144619189)\n",
      "('IG:', 0.9000637270017473)\n",
      "('IG:', 0.9000637270017473)\n",
      "('IG:', 0.9000637270017473)\n",
      "('IG:', 0.9000637270017473)\n",
      "('IG:', 0.90450817144619189)\n",
      "('IG:', 0.90016034535923528)\n",
      "('IG:', 0.91320793503957243)\n",
      "('IG:', 0.91320793503957243)\n",
      "('IG:', 0.91320793503957243)\n",
      "('IG:', 0.91320793503957243)\n",
      "('IG:', 0.91755576112652903)\n",
      "('IG:', 0.91755576112652903)\n",
      "('IG:', 0.91330044197759275)\n",
      "('IG:', 0.91746325418850849)\n",
      "('IG:', 0.91746325418850849)\n",
      "('IG:', 0.91746325418850849)\n",
      "('IG:', 0.91746325418850849)\n",
      "('IG:', 0.91320793503957243)\n",
      "('IG:', 0.91320793503957243)\n",
      "('IG:', 0.91320793503957243)\n",
      "('IG:', 0.91320793503957243)\n",
      "('IG:', 0.90867098365710763)\n",
      "('IG:', 0.91301880974406413)\n",
      "('IG:', 0.90867098365710763)\n",
      "('IG:', 0.91311542810155211)\n",
      "('IG:', 0.90876760201459561)\n",
      "('IG:', 0.90876760201459561)\n",
      "('IG:', 0.90876760201459561)\n",
      "('IG:', 0.90876760201459561)\n",
      "('IG:', 0.90876760201459561)\n",
      "('IG:', 0.90432315757015114)\n",
      "('IG:', 0.90432315757015114)\n",
      "('IG:', 0.90432315757015114)\n",
      "('IG:', 0.90006783842121507)\n",
      "('IG:', 0.90006783842121507)\n",
      "('IG:', 0.90006783842121507)\n",
      "('IG:', 0.90451228286565954)\n",
      "('IG:', 0.90451228286565954)\n",
      "('IG:', 0.90006783842121507)\n",
      "('IG:', 0.90886010895261582)\n",
      "('IG:', 0.90886010895261582)\n",
      "('IG:', 0.90886010895261582)\n",
      "('IG:', 0.90886010895261582)\n",
      "('IG:', 0.90886010895261582)\n",
      "('IG:', 0.90886010895261582)\n",
      "('IG:', 0.91311542810155211)\n",
      "('IG:', 0.90876760201459561)\n",
      "('IG:', 0.91311542810155211)\n",
      "('IG:', 0.91311542810155211)\n",
      "('IG:', 0.91311542810155211)\n",
      "('IG:', 0.91746325418850849)\n",
      "('IG:', 0.91746325418850849)\n",
      "('IG:', 0.91746325418850849)\n",
      "('IG:', 0.9218110802754651)\n",
      "('IG:', 0.91746325418850849)\n",
      "('IG:', 0.92171857333744467)\n",
      "('IG:', 0.91737074725048817)\n",
      "('IG:', 0.92606639942440128)\n",
      "('IG:', 0.92606639942440128)\n",
      "('IG:', 0.92606639942440128)\n",
      "('IG:', 0.9218110802754651)\n",
      "('IG:', 0.92606639942440128)\n",
      "('IG:', 0.92606639942440128)\n",
      "('IG:', 0.92606639942440128)\n",
      "('IG:', 0.9218110802754651)\n",
      "('IG:', 0.9218110802754651)\n",
      "('IG:', 0.92171857333744467)\n",
      "('IG:', 0.92171857333744467)\n",
      "('IG:', 0.92171857333744467)\n",
      "('IG:', 0.91737074725048817)\n",
      "('IG:', 0.91737074725048839)\n",
      "('IG:', 0.91737074725048839)\n",
      "('IG:', 0.92171857333744467)\n",
      "('IG:', 0.92171857333744467)\n",
      "('IG:', 0.92171857333744467)\n",
      "('IG:', 0.92171857333744467)\n",
      "('IG:', 0.92171857333744467)\n",
      "('IG:', 0.92171857333744467)\n",
      "('IG:', 0.92171857333744467)\n",
      "('IG:', 0.92171857333744467)\n",
      "('IG:', 0.92171857333744467)\n",
      "('IG:', 0.92171857333744467)\n",
      "('IG:', 0.92171857333744467)\n",
      "('IG:', 0.92171857333744467)\n",
      "('IG:', 0.93041833693082532)\n",
      "('IG:', 0.93041833693082532)\n",
      "('IG:', 0.93041833693082532)\n",
      "('IG:', 0.93041833693082532)\n",
      "('IG:', 0.93041833693082532)\n",
      "('IG:', 0.93041833693082532)\n",
      "('IG:', 0.93041833693082532)\n",
      "('IG:', 0.92606639942440128)\n",
      "('IG:', 0.9172741288930002)\n",
      "('IG:', 0.9216219549799568)\n",
      "('IG:', 0.9172741288930002)\n",
      "('IG:', 0.9216219549799568)\n",
      "('IG:', 0.9216219549799568)\n",
      "('IG:', 0.9216219549799568)\n",
      "('IG:', 0.9216219549799568)\n",
      "('IG:', 0.9216219549799568)\n",
      "('IG:', 0.92171857333744467)\n",
      "('IG:', 0.92171857333744467)\n",
      "('IG:', 0.92171857333744467)\n",
      "('IG:', 0.92181519169493265)\n",
      "('IG:', 0.92181519169493265)\n",
      "('IG:', 0.92616301778188925)\n",
      "('IG:', 0.91737074725048839)\n",
      "('IG:', 0.91302292116353168)\n",
      "('IG:', 0.91302292116353168)\n",
      "('IG:', 0.91737074725048839)\n",
      "('IG:', 0.91292630280604392)\n",
      "('IG:', 0.91292630280604392)\n",
      "('IG:', 0.91292630280604392)\n",
      "('IG:', 0.90857847671908731)\n",
      "('IG:', 0.93022921163531724)\n",
      "('IG:', 0.93022921163531724)\n",
      "('IG:', 0.92578476719087277)\n",
      "('IG:', 0.92578476719087277)\n",
      "('IG:', 0.92578476719087277)\n",
      "('IG:', 0.92578476719087277)\n",
      "('IG:', 0.92578476719087277)\n",
      "('IG:', 0.93013259327782905)\n",
      "('IG:', 0.93457703772227352)\n",
      "('IG:', 0.93032171857333734)\n",
      "('IG:', 0.93032171857333734)\n",
      "('IG:', 0.93032171857333734)\n",
      "('IG:', 0.93013259327782905)\n",
      "('IG:', 0.93013259327782905)\n",
      "('IG:', 0.93892486380923013)\n",
      "('IG:', 0.93457703772227352)\n",
      "('IG:', 0.93003597492034129)\n",
      "('IG:', 0.93438380100729768)\n",
      "IG has been ran.\n",
      "Has ran a single DFS model:0\n",
      "Has ran a single DFS model:1\n",
      "Has ran a single DFS model:2\n",
      "Has ran a single DFS model:3\n",
      "Has ran a single DFS model:4\n"
     ]
    }
   ],
   "source": [
    "# Run SVM with top features from DFS union model\n",
    "scoresUnion = []\n",
    "n_unions = []\n",
    "top_n = []\n",
    "for i in xrange(1,20):\n",
    "    print i\n",
    "    keke, union = unionDFSfeatures(i)\n",
    "    if len(n_unions) == 0 or len(union) != n_unions[-1]:\n",
    "        top_n.append(i)\n",
    "        n_unions.append(len(union))\n",
    "        scoresUnion.append(np.mean(cross_val_score(svm, keke, inputY, cv=5)))\n",
    "        print(\"Union:\", scoresUnion[-1])\n",
    "    \n",
    "traceUnion = go.Scatter(\n",
    "    x = n_unions,\n",
    "    y = scoresUnion,\n",
    "    mode = 'lines+markers',\n",
    "    name = 'DFS Union'\n",
    ")\n",
    "\n",
    "print(\"DFS Union has been ran.\")\n",
    "\n",
    "\"\"\"\n",
    "    Below models are ran with maximu n == n_unions[-1]\n",
    "\"\"\"\n",
    "\n",
    "# Run SVM with top features from DFS average model\n",
    "scoresAve = []\n",
    "for n in xrange(1, n_unions[-1]):\n",
    "    temp, _ = topAveDFSfeatures(0,n)\n",
    "    scoresAve.append(np.mean(cross_val_score(svm, temp, inputY, cv=5)))\n",
    "    print(\"Ave:\", scoresAve[-1])\n",
    "\n",
    "traceAve = go.Scatter(\n",
    "    x = range(1, n_unions[-1]),\n",
    "    y = scoresAve,\n",
    "    mode = 'lines+markers',\n",
    "    name = 'DFS Ave'\n",
    ")\n",
    "\n",
    "print(\"DFS average has been ran.\")\n",
    "\n",
    "# Run SVM with top features from DFS average model\n",
    "scoresIG = []\n",
    "for n in xrange(1, n_unions[-1]):\n",
    "    temp, _ = topIGfeatures(0,n)\n",
    "    scoresIG.append(np.mean(cross_val_score(svm, temp, inputY, cv=5)))\n",
    "    print(\"IG:\", scoresIG[-1])\n",
    "\n",
    "traceIG = go.Scatter(\n",
    "    x = range(1, n_unions[-1]),\n",
    "    y = scoresIG,\n",
    "    mode = 'lines+markers',\n",
    "    name = 'IG'\n",
    ")\n",
    "\n",
    "print(\"IG has been ran.\")\n",
    "\n",
    "# Run SVM with top features from DFS single models\n",
    "tracesSingle = []\n",
    "for i in xrange(5):\n",
    "    print(\"Has ran a single DFS model:\"+str(i))\n",
    "    scoresNormal = []\n",
    "    for n in xrange(1, n_unions[-1]):\n",
    "        temp, _ = pickOneDFSfeatures(0,n,i)\n",
    "        scoresNormal.append(np.mean(cross_val_score(svm, temp, inputY, cv=5)))\n",
    "        \n",
    "    trace = go.Scatter(\n",
    "        x = range(1, n_unions[-1]),\n",
    "        y = scoresNormal,\n",
    "        mode = 'lines+markers',\n",
    "        name = 'DFS Single: '+str(i)\n",
    "    )\n",
    "    tracesSingle.append(trace)\n",
    "    \n",
    "# scoresXgboost = []\n",
    "# for n in xrange(1, n_unions[-1]):\n",
    "#     temp, _ = topXGBoostfeatures(0,n)\n",
    "#     scoresXgboost.append(np.mean(cross_val_score(svm, temp, inputY, cv=5)))\n",
    "#     print(\"XGBoost:\", scoresXgboost[-1])\n",
    "\n",
    "# traceXGB = go.Scatter(\n",
    "#     x = range(1, n_unions[-1]),\n",
    "#     y = scoresXgboost,\n",
    "#     mode = 'lines+markers',\n",
    "#     name = 'lines+markers'\n",
    "# )\n",
    "\n",
    "# print(\"XGBoost model has been ran.\")"
   ]
  },
  {
   "cell_type": "code",
   "execution_count": 143,
   "metadata": {
    "collapsed": false
   },
   "outputs": [],
   "source": [
    "best, index_best = unionDFSfeatures(7)"
   ]
  },
  {
   "cell_type": "code",
   "execution_count": 166,
   "metadata": {
    "collapsed": false
   },
   "outputs": [],
   "source": []
  },
  {
   "cell_type": "code",
   "execution_count": 147,
   "metadata": {
    "collapsed": false
   },
   "outputs": [
    {
     "data": {
      "text/plain": [
       "array([        780, 10023806539])"
      ]
     },
     "execution_count": 147,
     "metadata": {},
     "output_type": "execute_result"
    }
   ],
   "source": [
    "data_VC['ID'][i]"
   ]
  },
  {
   "cell_type": "code",
   "execution_count": 260,
   "metadata": {
    "collapsed": false
   },
   "outputs": [
    {
     "data": {
      "text/html": [
       "<iframe id=\"igraph\" scrolling=\"no\" style=\"border:none;\" seamless=\"seamless\" src=\"https://plot.ly/~tonyabracadabra/6.embed\" height=\"525px\" width=\"100%\"></iframe>"
      ],
      "text/plain": [
       "<plotly.tools.PlotlyDisplay object>"
      ]
     },
     "execution_count": 260,
     "metadata": {},
     "output_type": "execute_result"
    }
   ],
   "source": [
    "a = [traceUnion,traceAve, traceIG]\n",
    "a.extend(tracesSingle)\n",
    "\n",
    "py.iplot(a, filename='plot')"
   ]
  },
  {
   "cell_type": "markdown",
   "metadata": {},
   "source": [
    "# Compare features [0,10], [10,20], [20,30] ... [90,100]"
   ]
  },
  {
   "cell_type": "code",
   "execution_count": 202,
   "metadata": {
    "collapsed": false
   },
   "outputs": [
    {
     "name": "stdout",
     "output_type": "stream",
     "text": [
      "('Ave:', 0.90867509507657507)\n",
      "('Ave:', 0.90867509507657507)\n",
      "('Ave:', 0.90867509507657507)\n",
      "('Ave:', 0.90867509507657507)\n",
      "('Ave:', 0.90877171343406304)\n",
      "('Ave:', 0.91728235173193551)\n",
      "('Ave:', 0.92162606639942446)\n",
      "('Ave:', 0.92162606639942446)\n",
      "('Ave:', 0.91737074725048839)\n",
      "('Ave:', 0.89128379072874908)\n",
      "('Ave:', 0.90433138040908623)\n",
      "('Ave:', 0.90442388734710666)\n",
      "('Ave:', 0.91737485866995583)\n",
      "('Ave:', 0.90867920649604272)\n",
      "('Ave:', 0.89998355432212984)\n",
      "('Ave:', 0.90442388734710666)\n",
      "('Ave:', 0.89138040908623706)\n",
      "('Ave:', 0.89138040908623706)\n",
      "('Ave:', 0.89128790214821674)\n",
      "('Ave:', 0.89147291602425738)\n",
      "('IG:', 0.90432726898961879)\n",
      "('IG:', 0.90867509507657507)\n",
      "('IG:', 0.90432726898961868)\n",
      "('IG:', 0.90877171343406304)\n",
      "('IG:', 0.89563161681570558)\n",
      "('IG:', 0.89572823517319355)\n",
      "('IG:', 0.90007606126014994)\n",
      "('IG:', 0.90432726898961868)\n",
      "('IG:', 0.90432726898961868)\n",
      "('IG:', 0.89997944290266219)\n",
      "('IG:', 0.90007194984068239)\n",
      "('IG:', 0.88693185322232504)\n",
      "('IG:', 0.8913762976667694)\n",
      "('IG:', 0.90007194984068239)\n",
      "('IG:', 0.90007194984068239)\n",
      "('IG:', 0.89572412375372612)\n",
      "('IG:', 0.90007194984068239)\n",
      "('IG:', 0.89572412375372612)\n",
      "('IG:', 0.89572412375372612)\n",
      "('IG:', 0.90442388734710666)\n",
      "Has ran a single DFS model:0\n",
      "Has ran a single DFS model:1\n",
      "Has ran a single DFS model:2\n",
      "Has ran a single DFS model:3\n",
      "Has ran a single DFS model:4\n"
     ]
    }
   ],
   "source": [
    "# scoresXgboost_range = []\n",
    "# for i in xrange(20):\n",
    "#     temp, _ = topXGBoostfeatures(i,i+10)\n",
    "#     scoresXgboost_range.append(np.mean(cross_val_score(svm, temp, inputY, cv=5)))\n",
    "#     print(\"XGBoost:\", scoresXgboost_range[-1])\n",
    "\n",
    "# traceXGB_range = go.Scatter(\n",
    "#     x = range(20),\n",
    "#     y = scoresXgboost_range,\n",
    "#     mode = 'lines+markers',\n",
    "#     name = 'lines+markers'\n",
    "# )\n",
    "\n",
    "scoresAve_range = []\n",
    "for i in xrange(20):\n",
    "    temp, _ = topAveDFSfeatures(i,i+50)\n",
    "    scoresAve_range.append(np.mean(cross_val_score(svm, temp, inputY, cv=5)))\n",
    "    print(\"Ave:\", scoresAve_range[-1])\n",
    "\n",
    "traceAve_range = go.Scatter(\n",
    "    x = range(20),\n",
    "    y = scoresAve_range,\n",
    "    mode = 'lines+markers',\n",
    "    name = 'DFS Ave'\n",
    ")\n",
    "\n",
    "scoresIG_range = []\n",
    "for i in xrange(20):\n",
    "    temp, _ = topIGfeatures(i,i+50)\n",
    "    scoresIG_range.append(np.mean(cross_val_score(svm, temp, inputY, cv=5)))\n",
    "    print(\"IG:\", scoresIG_range[-1])\n",
    "\n",
    "traceIG_range = go.Scatter(\n",
    "    x = range(20),\n",
    "    y = scoresIG_range,\n",
    "    mode = 'lines+markers',\n",
    "    name = 'IG'\n",
    ")\n",
    "\n",
    "# Run SVM with top features from DFS single models\n",
    "tracesSingle_range = []\n",
    "for i in xrange(5):\n",
    "    print(\"Has ran a single DFS model:\"+str(i))\n",
    "    scoresNormal = []\n",
    "    for j in xrange(20):\n",
    "        temp, _ = pickOneDFSfeatures(j,j+50,i)\n",
    "        scoresNormal.append(np.mean(cross_val_score(svm, temp, inputY, cv=5)))\n",
    "        \n",
    "    trace = go.Scatter(\n",
    "        x = range(20),\n",
    "        y = scoresNormal,\n",
    "        mode = 'lines+markers',\n",
    "        name = 'DFS Single: '+str(i)\n",
    "    )\n",
    "    tracesSingle_range.append(trace)"
   ]
  },
  {
   "cell_type": "code",
   "execution_count": 203,
   "metadata": {
    "collapsed": false
   },
   "outputs": [
    {
     "data": {
      "text/html": [
       "<iframe id=\"igraph\" scrolling=\"no\" style=\"border:none;\" seamless=\"seamless\" src=\"https://plot.ly/~tonyabracadabra/6.embed\" height=\"525px\" width=\"100%\"></iframe>"
      ],
      "text/plain": [
       "<plotly.tools.PlotlyDisplay object>"
      ]
     },
     "execution_count": 203,
     "metadata": {},
     "output_type": "execute_result"
    }
   ],
   "source": [
    "b = [traceAve_range, traceIG_range]\n",
    "b.extend(tracesSingle_range)\n",
    "\n",
    "py.iplot(b, filename='plot')"
   ]
  },
  {
   "cell_type": "markdown",
   "metadata": {},
   "source": [
    "# Find intersecting features from each model"
   ]
  },
  {
   "cell_type": "code",
   "execution_count": null,
   "metadata": {
    "collapsed": true
   },
   "outputs": [],
   "source": [
    "_, ave = topAveDFSfeatures(0,102)\n",
    "_, xg = topXGBoostfeatures(0,102)\n",
    "_, union = unionDFSfeatures(27)\n",
    "\n",
    "# Intersection indexes\n",
    "intersect_3models = np.intersect1d(np.intersect1d(ave,union),xg).tolist()\n",
    "print temp.shape\n",
    "\n",
    "temp = inputX[:,intersect_3modsels]\n",
    "\n",
    "# Accuracy rate based on the three models\n",
    "np.mean(cross_val_score(svm, temp, inputY, cv=5))"
   ]
  },
  {
   "cell_type": "code",
   "execution_count": 169,
   "metadata": {
    "collapsed": true
   },
   "outputs": [],
   "source": [
    "X = np.random.rand(5,1)\n",
    "y = np.array([0,1,1,0,1])"
   ]
  },
  {
   "cell_type": "code",
   "execution_count": 170,
   "metadata": {
    "collapsed": false
   },
   "outputs": [
    {
     "data": {
      "text/plain": [
       "GMM(covariance_type='diag', init_params='wmc', min_covar=0.001,\n",
       "  n_components=2, n_init=1, n_iter=100, params='wmc', random_state=None,\n",
       "  thresh=None, tol=0.001, verbose=0)"
      ]
     },
     "execution_count": 170,
     "metadata": {},
     "output_type": "execute_result"
    }
   ],
   "source": [
    "from sklearn.mixture import GMM\n",
    "\n",
    "gmm = GMM(n_components=2)\n",
    "gmm.fit(X)"
   ]
  },
  {
   "cell_type": "code",
   "execution_count": 174,
   "metadata": {
    "collapsed": false
   },
   "outputs": [
    {
     "data": {
      "text/plain": [
       "array([[ 0.42880099],\n",
       "       [ 0.68039362],\n",
       "       [ 0.52554149],\n",
       "       [ 0.42296701],\n",
       "       [ 0.33023037]])"
      ]
     },
     "execution_count": 174,
     "metadata": {},
     "output_type": "execute_result"
    }
   ],
   "source": [
    "X"
   ]
  },
  {
   "cell_type": "code",
   "execution_count": 175,
   "metadata": {
    "collapsed": false
   },
   "outputs": [
    {
     "data": {
      "text/plain": [
       "array([1, 0, 1, 1, 1])"
      ]
     },
     "execution_count": 175,
     "metadata": {},
     "output_type": "execute_result"
    }
   ],
   "source": [
    "gmm.fit_predict(X)"
   ]
  },
  {
   "cell_type": "code",
   "execution_count": 176,
   "metadata": {
    "collapsed": true
   },
   "outputs": [],
   "source": []
  },
  {
   "cell_type": "code",
   "execution_count": 181,
   "metadata": {
    "collapsed": false
   },
   "outputs": [],
   "source": []
  },
  {
   "cell_type": "code",
   "execution_count": 192,
   "metadata": {
    "collapsed": false
   },
   "outputs": [],
   "source": [
    "def topIGfeatures(a,b):\n",
    "    indexes_IG = np.argsort(ig)[::-1][a:b]\n",
    "    return inputX[:, indexes_IG], indexes_IG"
   ]
  },
  {
   "cell_type": "code",
   "execution_count": 188,
   "metadata": {
    "collapsed": false
   },
   "outputs": [
    {
     "data": {
      "text/plain": [
       "array([  1.10895574e-01,   1.31042863e-01,   6.21529880e-03,\n",
       "         2.52163416e-03,   2.41009417e-02,   1.61356490e-02,\n",
       "         2.99863237e-03,   3.11532169e-02,   2.04260221e-01,\n",
       "         1.78802492e-02,   9.52907904e-02,   8.16887351e-02,\n",
       "         1.85355314e-01,   1.68254057e-01,   8.34945828e-03,\n",
       "         1.11561634e-01,   1.39311341e-02,   6.99954995e-02,\n",
       "         1.37771559e-03,   8.14885137e-02,   8.23198355e-02,\n",
       "         1.36470745e-02,   2.36266777e-01,   6.31690827e-02,\n",
       "         6.10165887e-02,   5.35009072e-02,   2.69106723e-04,\n",
       "         2.52163416e-03,   1.78363600e-01,   3.27967201e-04,\n",
       "         1.24932205e-01,   1.07417593e-01,   1.36867044e-03,\n",
       "         8.14885137e-02,   1.11000438e-03,   5.12229034e-06,\n",
       "         3.59021146e-03,   6.40510702e-02,   8.99896901e-04,\n",
       "         3.22713229e-02,   8.99896901e-04,   2.15449993e-01,\n",
       "         2.53409781e-03,   8.33308954e-03,   1.97232973e-04,\n",
       "         1.66453792e-01,   3.27860052e-03,   2.47227796e-01,\n",
       "         8.92561520e-03,   5.94843917e-02,   1.02088775e-01,\n",
       "         7.50414074e-03,   3.19906545e-02,   4.09020970e-04,\n",
       "         3.22987325e-03,   4.06832738e-02,   2.49292231e-03,\n",
       "         2.47841645e-02,   7.59022862e-03,   4.69531314e-02,\n",
       "         9.29589514e-02,   1.28172136e-03,   1.93578303e-01,\n",
       "         1.37451834e-02,   1.05175071e-01,   4.32691023e-02,\n",
       "         2.77162547e-02,   1.85908761e-02,   1.30355568e-01,\n",
       "         1.13245944e-01,   2.47701128e-01,   1.70494941e-01,\n",
       "         3.28332402e-02,   1.61062454e-01,   1.69440005e-01,\n",
       "         5.12353683e-02,   1.36553537e-01,   3.41233758e-01,\n",
       "         3.59021146e-03,   4.35223266e-04,   1.39311341e-02,\n",
       "         3.46754918e-02,   5.30521132e-02,   4.91939177e-05,\n",
       "         2.34293784e-02,   1.08755307e-02,   3.08046933e-04,\n",
       "         3.74683426e-02,   6.05728290e-02,   3.30837366e-05,\n",
       "         2.33319448e-01,   8.18793110e-03,   7.74656275e-02,\n",
       "         3.08046933e-04,   2.48882813e-02,   1.51661535e-01,\n",
       "         6.77081084e-02,   1.19844661e-02,   1.36329195e-03,\n",
       "         2.08065363e-02,   7.61003129e-03,   6.54926370e-05,\n",
       "         1.15735977e-03,   4.35223266e-04,   2.33606395e-03,\n",
       "         6.95882473e-05,   2.52163416e-03,   1.58674671e-02,\n",
       "         2.80727465e-04,   4.28673085e-03,   5.43479998e-03,\n",
       "         1.08130349e-01,   3.22616949e-03,   5.90403123e-04,\n",
       "         7.61003129e-03,   1.11043241e-02,   3.65241814e-04,\n",
       "         2.81261668e-03,   1.30340632e-01,   8.24218300e-02,\n",
       "         7.61003129e-03,   2.06031223e-02,   1.30326940e-04,\n",
       "         4.44734831e-03,   2.52163416e-03,   3.59021146e-03,\n",
       "         6.54161423e-02,   4.09805746e-02,   7.61003129e-03,\n",
       "         2.52163416e-03,   2.52163416e-03,   3.74452416e-03,\n",
       "         3.38600202e-02,   3.10178954e-04,   6.37316539e-04,\n",
       "         9.48220779e-03,   6.01385214e-03,   1.72570516e-02,\n",
       "         7.61003129e-03,   9.22465155e-02,   3.30891718e-01,\n",
       "         1.37451834e-02,   2.16033670e-03])"
      ]
     },
     "execution_count": 188,
     "metadata": {},
     "output_type": "execute_result"
    }
   ],
   "source": [
    "ig_cr[index_best]"
   ]
  }
 ],
 "metadata": {
  "kernelspec": {
   "display_name": "Python 2",
   "language": "python",
   "name": "python2"
  },
  "language_info": {
   "codemirror_mode": {
    "name": "ipython",
    "version": 2
   },
   "file_extension": ".py",
   "mimetype": "text/x-python",
   "name": "python",
   "nbconvert_exporter": "python",
   "pygments_lexer": "ipython2",
   "version": "2.7.12"
  }
 },
 "nbformat": 4,
 "nbformat_minor": 0
}
