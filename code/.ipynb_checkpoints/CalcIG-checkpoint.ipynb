{
 "cells": [
  {
   "cell_type": "code",
   "execution_count": 39,
   "metadata": {
    "collapsed": true
   },
   "outputs": [],
   "source": [
    "from scipy import io as sio\n",
    "from sklearn.preprocessing import Imputer\n",
    "\n",
    "data_PFC = sio.loadmat(\"/Volumes/TONY/LabWW/Alzheimer/GSE44772/GSE44772_PFC.mat\")\n",
    "data_VC = sio.loadmat(\"/Volumes/TONY/LabWW/Alzheimer/GSE44772/GSE44772_VC.mat\")\n",
    "data_CR = sio.loadmat(\"/Volumes/TONY/LabWW/Alzheimer/GSE44772/GSE44772_CR.mat\")\n",
    "\n",
    "def setRegion(region):\n",
    "    if region == 'PFC':\n",
    "        ourdata = data_PFC\n",
    "    elif region == 'VC':\n",
    "        ourdata = data_VC\n",
    "    elif region == 'CR':\n",
    "        ourdata = data_CR\n",
    "    elif region == 'All':\n",
    "        ourdata = data_All\n",
    "        \n",
    "    inputX = ourdata['X']\n",
    "    # Inpute using median\n",
    "    imp = Imputer(missing_values='NaN', strategy='mean', axis=0)\n",
    "    imp.fit(inputX)\n",
    "    inputX = imp.transform(inputX)\n",
    "    \n",
    "    inputY = ourdata['y'][0,:]\n",
    "    \n",
    "    return inputX, inputY"
   ]
  },
  {
   "cell_type": "code",
   "execution_count": 175,
   "metadata": {
    "collapsed": false
   },
   "outputs": [],
   "source": [
    "inputX, inputY = setRegion('PFC')"
   ]
  },
  {
   "cell_type": "code",
   "execution_count": 177,
   "metadata": {
    "collapsed": false
   },
   "outputs": [
    {
     "name": "stdout",
     "output_type": "stream",
     "text": [
      "[1000]\n",
      "[2000]\n",
      "[3000]\n",
      "[4000]\n",
      "[5000]\n",
      "[6000]\n",
      "[7000]\n",
      "[8000]\n",
      "[9000]\n",
      "[10000]\n",
      "[11000]\n",
      "[12000]\n",
      "[13000]\n",
      "[14000]\n",
      "[15000]\n",
      "[16000]\n",
      "[17000]\n",
      "[18000]\n",
      "[19000]\n",
      "[20000]\n",
      "[21000]\n",
      "[22000]\n",
      "[23000]\n",
      "[24000]\n",
      "[25000]\n",
      "[26000]\n",
      "[27000]\n",
      "[28000]\n",
      "[29000]\n",
      "[30000]\n",
      "[31000]\n",
      "[32000]\n",
      "[33000]\n",
      "[34000]\n",
      "[35000]\n",
      "[36000]\n",
      "[37000]\n",
      "[38000]\n",
      "[39000]\n"
     ]
    }
   ],
   "source": [
    "from sklearn.mixture import GMM\n",
    "\n",
    "gmm = GMM(n_components=2)\n",
    "\n",
    "def getFunc(x):\n",
    "    counter[0] += 1\n",
    "    if counter[0] % 1000 == 0:\n",
    "        print counter\n",
    "    return gmm.fit_predict(np.expand_dims(x,axis=1))\n",
    "\n",
    "counter = [0]\n",
    "newX = np.apply_along_axis(getFunc, 0, inputX)"
   ]
  },
  {
   "cell_type": "code",
   "execution_count": 178,
   "metadata": {
    "collapsed": false
   },
   "outputs": [
    {
     "name": "stdout",
     "output_type": "stream",
     "text": [
      "[1000]\n",
      "[2000]\n",
      "[3000]\n",
      "[4000]\n",
      "[5000]\n",
      "[6000]\n",
      "[7000]\n",
      "[8000]\n",
      "[9000]\n",
      "[10000]\n",
      "[11000]\n",
      "[12000]\n",
      "[13000]\n",
      "[14000]\n",
      "[15000]\n",
      "[16000]\n",
      "[17000]\n",
      "[18000]\n",
      "[19000]\n",
      "[20000]\n",
      "[21000]\n",
      "[22000]\n",
      "[23000]\n",
      "[24000]\n",
      "[25000]\n",
      "[26000]\n",
      "[27000]\n",
      "[28000]\n",
      "[29000]\n",
      "[30000]\n",
      "[31000]\n",
      "[32000]\n",
      "[33000]\n",
      "[34000]\n",
      "[35000]\n",
      "[36000]\n",
      "[37000]\n",
      "[38000]\n",
      "[39000]\n"
     ]
    }
   ],
   "source": [
    "from sklearn.mixture import GMM\n",
    "\n",
    "gmm = GMM(n_components=2)\n",
    "\n",
    "def getFunc(x):\n",
    "    counter[0] += 1\n",
    "    if counter[0] % 1000 == 0:\n",
    "        print counter\n",
    "    return gmm.fit_predict(np.expand_dims(x,axis=1))\n",
    "\n",
    "inputX_VC, inputY_VC = setRegion('VC')\n",
    "counter = [0]\n",
    "newX_VC = np.apply_along_axis(getFunc, 0, inputX_VC)"
   ]
  },
  {
   "cell_type": "code",
   "execution_count": 131,
   "metadata": {
    "collapsed": false
   },
   "outputs": [],
   "source": [
    "a = np.random.rand(5,10)\n",
    "\n",
    "np.apply_along_axis(lambda x:gmm.fit_predict(np.expand_dims(x,axis=1)), 0, inputX)"
   ]
  },
  {
   "cell_type": "code",
   "execution_count": 37,
   "metadata": {
    "collapsed": false
   },
   "outputs": [
    {
     "data": {
      "text/plain": [
       "array([[1, 0],\n",
       "       [1, 1],\n",
       "       [1, 0],\n",
       "       [0, 0]])"
      ]
     },
     "execution_count": 37,
     "metadata": {},
     "output_type": "execute_result"
    }
   ],
   "source": [
    "np.apply_along_axis(lambda x:gmm.fit_predict(np.expand_dims(x,axis=1)), 0, a)"
   ]
  },
  {
   "cell_type": "code",
   "execution_count": 36,
   "metadata": {
    "collapsed": false
   },
   "outputs": [
    {
     "data": {
      "text/plain": [
       "array([[ 0.64702304],\n",
       "       [ 0.44787052],\n",
       "       [ 0.46644521],\n",
       "       [ 0.88080961]])"
      ]
     },
     "execution_count": 36,
     "metadata": {},
     "output_type": "execute_result"
    }
   ],
   "source": [
    "np.expand_dims(a[:,0],axis=1)"
   ]
  },
  {
   "cell_type": "code",
   "execution_count": 48,
   "metadata": {
    "collapsed": true
   },
   "outputs": [],
   "source": [
    "A=np.arange(12).reshape(3,4)"
   ]
  },
  {
   "cell_type": "code",
   "execution_count": 179,
   "metadata": {
    "collapsed": false
   },
   "outputs": [],
   "source": [
    "from scipy.stats import entropy\n",
    "\n",
    "def getIGS(newX):\n",
    "    n_sample, n_feature = newX.shape[0], newX.shape[1]\n",
    "    igs = []\n",
    "    ori_entropy = entropy([len(inputY[inputY==0]),len(inputY[inputY==1])])\n",
    "\n",
    "    for i in xrange(n_feature):\n",
    "        if i % 1000 == 0:\n",
    "            print i\n",
    "\n",
    "        zero = inputY[newX[:,i]==0]\n",
    "        one = inputY[newX[:,i]==1]\n",
    "\n",
    "        if len(zero) != 0:\n",
    "            entropy_zero = entropy([len(zero[zero==0]),len(zero[zero==1])])\n",
    "        else:\n",
    "            entropy_zero = 0\n",
    "\n",
    "        if len(one) != 0:\n",
    "            entropy_one = entropy([len(one[one==0]),len(one[one==1])])\n",
    "        else:\n",
    "            entropy_one = 0\n",
    "\n",
    "        igs.append(ori_entropy-(len(zero)*entropy_zero*1.0/n_sample)-(len(one)*entropy_one*1.0/n_sample))\n",
    "    \n",
    "    return igs"
   ]
  },
  {
   "cell_type": "code",
   "execution_count": 60,
   "metadata": {
    "collapsed": false
   },
   "outputs": [],
   "source": [
    "x = newX[i,:]==0"
   ]
  },
  {
   "cell_type": "code",
   "execution_count": 105,
   "metadata": {
    "collapsed": false
   },
   "outputs": [],
   "source": [
    "if np.inf == 10:\n",
    "    print 1"
   ]
  },
  {
   "cell_type": "code",
   "execution_count": 183,
   "metadata": {
    "collapsed": false
   },
   "outputs": [],
   "source": [
    "sio.savemat(\"PFC_IG.mat\", {\"binaryX\":newX, \"IG\":igs_PFC})"
   ]
  },
  {
   "cell_type": "code",
   "execution_count": 182,
   "metadata": {
    "collapsed": false
   },
   "outputs": [
    {
     "name": "stdout",
     "output_type": "stream",
     "text": [
      "0\n",
      "1000\n",
      "2000\n",
      "3000\n",
      "4000\n",
      "5000\n",
      "6000\n",
      "7000\n",
      "8000\n",
      "9000\n",
      "10000\n",
      "11000\n",
      "12000\n",
      "13000\n",
      "14000\n",
      "15000\n",
      "16000\n",
      "17000\n",
      "18000\n",
      "19000\n",
      "20000\n",
      "21000\n",
      "22000\n",
      "23000\n",
      "24000\n",
      "25000\n",
      "26000\n",
      "27000\n",
      "28000\n",
      "29000\n",
      "30000\n",
      "31000\n",
      "32000\n",
      "33000\n",
      "34000\n",
      "35000\n",
      "36000\n",
      "37000\n",
      "38000\n",
      "39000\n"
     ]
    }
   ],
   "source": [
    "igs_PFC = getIGS(newX)"
   ]
  }
 ],
 "metadata": {
  "kernelspec": {
   "display_name": "Python 2",
   "language": "python",
   "name": "python2"
  },
  "language_info": {
   "codemirror_mode": {
    "name": "ipython",
    "version": 2
   },
   "file_extension": ".py",
   "mimetype": "text/x-python",
   "name": "python",
   "nbconvert_exporter": "python",
   "pygments_lexer": "ipython2",
   "version": "2.7.12"
  }
 },
 "nbformat": 4,
 "nbformat_minor": 0
}
