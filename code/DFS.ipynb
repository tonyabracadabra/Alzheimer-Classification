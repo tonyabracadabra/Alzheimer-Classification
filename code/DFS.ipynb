{
 "cells": [
  {
   "cell_type": "code",
   "execution_count": 1,
   "metadata": {
    "collapsed": false
   },
   "outputs": [],
   "source": [
    "from sklearn import datasets\n",
    "from sklearn.cross_validation import train_test_split\n",
    "from scipy import io as sio\n",
    "from tensorflow.python.framework import ops\n",
    "from dfs2 import DeepFeatureSelectionNew\n",
    "import numpy as np\n",
    "from sklearn.datasets import make_classification\n",
    "from sklearn.preprocessing import normalize\n",
    "from sklearn.preprocessing import Imputer\n",
    "\n",
    "# data_All = sio.loadmat(\"../data/GSE44772_data_refined.mat\")\n",
    "\n",
    "data_PFC = sio.loadmat(\"../data/GSE44772_PFC_refined.mat\")\n",
    "data_VC = sio.loadmat(\"../data/GSE44772_VC_refined.mat\")\n",
    "data_CR = sio.loadmat(\"../data/GSE44772_CR_refined.mat\")\n",
    "\n",
    "info_PFC = sio.loadmat(\"../data/PFC_IG_refined.mat\")\n",
    "info_VC = sio.loadmat(\"../data/VC_IG_refined.mat\")\n",
    "info_CR = sio.loadmat(\"../data/CR_IG_refined.mat\")"
   ]
  },
  {
   "cell_type": "code",
   "execution_count": 8,
   "metadata": {
    "collapsed": false
   },
   "outputs": [
    {
     "data": {
      "image/png": "[encoded data removed]",
      "text/plain": [
       "<matplotlib.figure.Figure at 0x1308a8490>"
      ]
     },
     "metadata": {},
     "output_type": "display_data"
    }
   ],
   "source": [
    "%matplotlib inline\n",
    "\n",
    "# np.argsort(info_PFC['gmm']['ig'][0][0][0])\n",
    "# info_PFC['median']['ig'][0][0][0]\n",
    "\n",
    "import matplotlib.pyplot as plt\n",
    "plt.plot(np.sort(info_VC['gmm']['ig'][0][0][0]))\n",
    "plt.ylabel('some numbers')\n",
    "plt.show()"
   ]
  },
  {
   "cell_type": "code",
   "execution_count": 9,
   "metadata": {
    "collapsed": false
   },
   "outputs": [],
   "source": [
    "index_gmm_PFC = np.argsort(info_PFC['gmm']['ig'][0][0][0])[-10000:]\n",
    "index_median_PFC = np.argsort(info_PFC['median']['ig'][0][0][0])[-10000:]\n",
    "\n",
    "index_gmm_VC = np.argsort(info_VC['gmm']['ig'][0][0][0])[-10000:]\n",
    "index_median_VC = np.argsort(info_VC['median']['ig'][0][0][0])[-10000:]\n",
    "\n",
    "index_gmm_CR = np.argsort(info_CR['gmm']['ig'][0][0][0])[-10000:]\n",
    "index_median_CR = np.argsort(info_CR['median']['ig'][0][0][0])[-10000:]"
   ]
  },
  {
   "cell_type": "code",
   "execution_count": null,
   "metadata": {
    "collapsed": false
   },
   "outputs": [],
   "source": [
    "data_VC['X'].shape"
   ]
  },
  {
   "cell_type": "code",
   "execution_count": null,
   "metadata": {
    "collapsed": true
   },
   "outputs": [],
   "source": [
    "def setRegion(region):\n",
    "    if region == 'PFC':\n",
    "        ourdata = data_PFC\n",
    "    elif region == 'VC':\n",
    "        ourdata = data_VC\n",
    "    elif region == 'CR':\n",
    "        ourdata = data_CR\n",
    "    elif region == 'All':\n",
    "        ourdata = data_All\n",
    "        \n",
    "    inputX = ourdata['X']\n",
    "    # Inpute using median\n",
    "    imp = Imputer(missing_values='NaN', strategy='mean', axis=0)\n",
    "    imp.fit(inputX)\n",
    "    inputX = imp.transform(inputX)\n",
    "    \n",
    "    inputY = ourdata['y'][0,:]\n",
    "    \n",
    "    return inputX, inputY"
   ]
  },
  {
   "cell_type": "code",
   "execution_count": null,
   "metadata": {
    "collapsed": false
   },
   "outputs": [],
   "source": [
    "inputX, inputY = setRegion('CR')"
   ]
  },
  {
   "cell_type": "code",
   "execution_count": null,
   "metadata": {
    "collapsed": false
   },
   "outputs": [],
   "source": [
    "ig(inputX, inputY)"
   ]
  },
  {
   "cell_type": "code",
   "execution_count": null,
   "metadata": {
    "collapsed": false,
    "scrolled": true
   },
   "outputs": [],
   "source": [
    "X_train, X_test, y_train, y_test = train_test_split(inputX, inputY, test_size=0.2, random_state=1)\n",
    "\n",
    "dfsMLP = DeepFeatureSelectionNew(X_train, X_test, y_train, y_test, n_input=1, hidden_dims=[100], dropout=[False], \\\n",
    "                                 learning_rate=0.01, lambda1=0.001, lambda2=1, alpha1=0.1, alpha2=0, activation='tanh', weight_init='uniform', \\\n",
    "                                 epochs=100, optimizer='Adam', print_step=10)\n",
    "\n",
    "dfsMLP.train(batch_size=200)"
   ]
  },
  {
   "cell_type": "code",
   "execution_count": null,
   "metadata": {
    "collapsed": false
   },
   "outputs": [],
   "source": [
    "from sklearn.cross_validation import cross_val_score\n",
    "from sklearn.svm import LinearSVC\n",
    "\n",
    "svm = LinearSVC()\n",
    "\n",
    "# All cross validation 0.900105526433\n",
    "# PFC cross validation 0.90895672731\n",
    "# VC cross validation 0.913401171755\n",
    "# CR cross validation 0.904520505705\n",
    "\n",
    "# keke, keke_test = topDFSfeatures(0,150)\n",
    "scores = cross_val_score(svm, inputX, inputY, cv=5)\n",
    "print(np.mean(scores))"
   ]
  },
  {
   "cell_type": "code",
   "execution_count": null,
   "metadata": {
    "collapsed": false
   },
   "outputs": [],
   "source": [
    "from sklearn.ensemble import RandomForestClassifier\n",
    "from sklearn.metrics import accuracy_score\n",
    "import xgboost as xgb\n",
    "\n",
    "rf = RandomForestClassifier(criterion=\"entropy\", n_estimators = 300, max_depth = 5)\n",
    "for region in ['All','CR','PFC','VC']:\n",
    "    inputX, inputY = setRegion(region)\n",
    "    scores = cross_val_score(rf, inputX, inputY, cv=5)\n",
    "    print(region + \"cross validation result:\" + str(np.mean(scores)))\n",
    "\n",
    "# gbm = xgb.XGBClassifier(max_depth=5, n_estimators=400, learning_rate=0.05).fit(top_train, y_train)\n",
    "# y_pred = gbm.predict(top_test)\n",
    "\n",
    "# featurescores = gbm.feature_importances_\n",
    "\n",
    "# print(accuracy_score(y_test, y_pred))"
   ]
  },
  {
   "cell_type": "code",
   "execution_count": null,
   "metadata": {
    "collapsed": false
   },
   "outputs": [],
   "source": [
    "from sklearn.cross_validation import KFold\n",
    "\n",
    "# All XGBoost cross validation result:0.882608695652\n",
    "\n",
    "for region in ['CR','PFC','VC']:\n",
    "    inputX, inputY = setRegion(region)\n",
    "    scores = []\n",
    "    for train_index, test_index in kf:\n",
    "        kf = KFold(n=inputX.shape[0], n_folds=5, shuffle=True, random_state=44)\n",
    "        X_train, X_test, y_train, y_test = inputX[train_index], inputX[test_index], inputY[train_index], inputY[test_index]\n",
    "        gbm = xgb.XGBClassifier(max_depth=5, n_estimators=300, learning_rate=0.05).fit(X_train, y_train)\n",
    "        y_pred = gbm.predict(X_test)\n",
    "    #     featurescores = gbm.feature_importances_\n",
    "        scores.append(accuracy_score(y_test, y_pred))\n",
    "    print(region + \" XGBoost cross validation result:\" + str(np.mean(scores)))"
   ]
  },
  {
   "cell_type": "code",
   "execution_count": null,
   "metadata": {
    "collapsed": false
   },
   "outputs": [],
   "source": [
    "kf = KFold(n=inputX.shape[0], n_folds=5, shuffle=True, random_state=44)\n",
    "\n",
    "kf\n",
    "\n",
    "1. MI\n",
    "2. Top 100\n",
    "3. GO analysis, pathway analysis"
   ]
  },
  {
   "cell_type": "code",
   "execution_count": null,
   "metadata": {
    "collapsed": false
   },
   "outputs": [],
   "source": [
    "for train_index, test_index in kf:\n",
    "    print test_index"
   ]
  },
  {
   "cell_type": "code",
   "execution_count": null,
   "metadata": {
    "collapsed": true
   },
   "outputs": [],
   "source": [
    "weight = dfsMLP.selected_ws[0]\n",
    "index = np.argsort(abs(weight))[::-1]"
   ]
  },
  {
   "cell_type": "code",
   "execution_count": null,
   "metadata": {
    "collapsed": false
   },
   "outputs": [],
   "source": [
    "for i in xrange(6):\n",
    "    print(len(inputY[inputY==i]))"
   ]
  },
  {
   "cell_type": "code",
   "execution_count": null,
   "metadata": {
    "collapsed": true
   },
   "outputs": [],
   "source": [
    "def topDFSfeatures(a,b):\n",
    "    return X_train[:, index.tolist()[a:b]], X_test[:, index.tolist()[a:b]]"
   ]
  },
  {
   "cell_type": "code",
   "execution_count": null,
   "metadata": {
    "collapsed": false
   },
   "outputs": [],
   "source": [
    "from sklearn.cross_validation import cross_val_score\n",
    "from sklearn.svm import LinearSVC\n",
    "\n",
    "svm = LinearSVC()\n",
    "\n",
    "keke, keke_test = topDFSfeatures(0,150)\n",
    "scores = cross_val_score(svm, keke, y_train, cv=5)\n",
    "print(np.mean(scores))"
   ]
  },
  {
   "cell_type": "code",
   "execution_count": null,
   "metadata": {
    "collapsed": false
   },
   "outputs": [],
   "source": [
    "from sklearn.ensemble import RandomForestClassifier\n",
    "from sklearn.metrics import accuracy_score\n",
    "import xgboost as xgb\n",
    "\n",
    "top_train, top_test = topDFSfeatures(0,500)\n",
    "\n",
    "rf = RandomForestClassifier(criterion=\"entropy\", n_estimators = 300, max_depth = 5)\n",
    "rf.fit(top_train, y_train)\n",
    "\n",
    "y_pred = rf.predict(top_test)\n",
    "\n",
    "print(accuracy_score(y_test, y_pred))\n",
    "\n",
    "gbm = xgb.XGBClassifier(max_depth=5, n_estimators=400, learning_rate=0.05).fit(top_train, y_train)\n",
    "y_pred = gbm.predict(top_test)\n",
    "\n",
    "featurescores = gbm.feature_importances_\n",
    "\n",
    "print(accuracy_score(y_test, y_pred))\n",
    "\n",
    "# gbm10 = xgb.XGBClassifier(max_depth=3, n_estimators=400, learning_rate=0.05).fit(X_train10, y_train)\n",
    "# y_pred10 = gbm.predict(X_test10)\n",
    "\n",
    "# print(accuracy_score(y_test, y_pred))"
   ]
  },
  {
   "cell_type": "code",
   "execution_count": null,
   "metadata": {
    "collapsed": false
   },
   "outputs": [],
   "source": [
    "# X_train, X_test, y_train, y_test = train_test_split(inputX, inputY, test_size=0.2, random_state=1)\n",
    "\n",
    "top_train, top_test = topDFSfeatures(20000,30000)\n",
    "\n",
    "dfsMLP = DeepFeatureSelectionNew(top_train, top_test, y_train, y_test, n_input=1, hidden_dims=[100], dropout=[False], \\\n",
    "                                 learning_rate=0.01, lambda1=0.001, lambda2=1, alpha1=0.01, alpha2=0, activation='tanh', weight_init='uniform', \\\n",
    "                                 epochs=100, optimizer='Adam', print_step=5)\n",
    "dfsMLP.train(batch_size=200)"
   ]
  },
  {
   "cell_type": "code",
   "execution_count": null,
   "metadata": {
    "collapsed": false
   },
   "outputs": [],
   "source": []
  },
  {
   "cell_type": "code",
   "execution_count": null,
   "metadata": {
    "collapsed": false
   },
   "outputs": [],
   "source": [
    "import numpy as np\n",
    "from scipy.sparse import issparse\n",
    "from sklearn.preprocessing import LabelBinarizer\n",
    "from sklearn.utils import check_array\n",
    "from sklearn.utils.extmath import safe_sparse_dot\n",
    "\n",
    "\n",
    "from math import log\n",
    "\n",
    "def I(p,n):\n",
    "\tpos = p / (p + n)\n",
    "\tneg = n / (p + n)\n",
    "\t\n",
    "\tif pos == 0 and neg == 0:\n",
    "\t\treturn 0\n",
    "\telif pos == 0:\n",
    "\t\treturn -neg * log(neg, 2)\n",
    "\telif neg == 0:\n",
    "\t\treturn -pos * log(pos, 2)\n",
    "\telse:\n",
    "\t\treturn (-pos * log(pos, 2)) + (-neg * log(neg, 2))"
   ]
  }
 ],
 "metadata": {
  "kernelspec": {
   "display_name": "Python 2",
   "language": "python",
   "name": "python2"
  },
  "language_info": {
   "codemirror_mode": {
    "name": "ipython",
    "version": 2
   },
   "file_extension": ".py",
   "mimetype": "text/x-python",
   "name": "python",
   "nbconvert_exporter": "python",
   "pygments_lexer": "ipython2",
   "version": "2.7.12"
  }
 },
 "nbformat": 4,
 "nbformat_minor": 0
}
