{
 "cells": [
  {
   "cell_type": "markdown",
   "metadata": {},
   "source": [
    "# Load the weights files from the folder ../weights"
   ]
  },
  {
   "cell_type": "code",
   "execution_count": 1,
   "metadata": {
    "collapsed": false
   },
   "outputs": [],
   "source": [
    "from sklearn.preprocessing import normalize\n",
    "import numpy as np\n",
    "\n",
    "# Substitute the weights file you have just generated\n",
    "weights_CR = np.load(\"./weights/weights_CR.npy\")\n",
    "weights_PFC = np.load(\"./weights/weights_PFC.npy\")\n",
    "weights_VC = np.load(\"./weights/weights_VC.npy\")\n",
    "\n",
    "# Substitute the xgboost model you have generated\n",
    "# indexes_xgboost = np.load(\"./weights/indexes_xgboost.npy\")"
   ]
  },
  {
   "cell_type": "code",
   "execution_count": 49,
   "metadata": {
    "collapsed": false
   },
   "outputs": [],
   "source": [
    "data_VC['ID'][:,1]\n",
    "\n",
    "import pandas as pd\n",
    "\n",
    "annotation = pd.read_csv('../annotation.csv')"
   ]
  },
  {
   "cell_type": "code",
   "execution_count": null,
   "metadata": {
    "collapsed": false
   },
   "outputs": [],
   "source": []
  },
  {
   "cell_type": "code",
   "execution_count": 162,
   "metadata": {
    "collapsed": false
   },
   "outputs": [],
   "source": [
    "ro_id = annotation.ix[:,1].values\n",
    "entrez = annotation.ix[:,2].values\n",
    "genbank = annotation.ix[:,4].values"
   ]
  },
  {
   "cell_type": "code",
   "execution_count": 210,
   "metadata": {
    "collapsed": false
   },
   "outputs": [],
   "source": [
    "mappingGenbank = {ro_id[i]:genbank[i] for i in xrange(39302)}\n",
    "mappingEntrez = {ro_id[i]:entrez[i] for i in xrange(39302)}"
   ]
  },
  {
   "cell_type": "code",
   "execution_count": 82,
   "metadata": {
    "collapsed": false
   },
   "outputs": [],
   "source": [
    "genbank_list = np.array([mapping[i] for i in data_VC['ID'][:,1]]).astype(str)"
   ]
  },
  {
   "cell_type": "code",
   "execution_count": 106,
   "metadata": {
    "collapsed": false
   },
   "outputs": [],
   "source": [
    "index_nonNA = np.array(np.where(genbank_list!='nan'))[0]"
   ]
  },
  {
   "cell_type": "code",
   "execution_count": 114,
   "metadata": {
    "collapsed": false
   },
   "outputs": [
    {
     "data": {
      "text/plain": [
       "(37138,)"
      ]
     },
     "execution_count": 114,
     "metadata": {},
     "output_type": "execute_result"
    }
   ],
   "source": [
    "index_nonNA.shape"
   ]
  },
  {
   "cell_type": "code",
   "execution_count": 90,
   "metadata": {
    "collapsed": false
   },
   "outputs": [],
   "source": [
    "genbank_nonNA_list = genbank_list[genbank_list!='nan']"
   ]
  },
  {
   "cell_type": "code",
   "execution_count": 93,
   "metadata": {
    "collapsed": false
   },
   "outputs": [],
   "source": [
    "# for i in genbank_nonNA_list:\n",
    "#     print i"
   ]
  },
  {
   "cell_type": "code",
   "execution_count": 116,
   "metadata": {
    "collapsed": false
   },
   "outputs": [],
   "source": [
    "temp = np.concatenate((index_nonNA.reshape(37138,1),genbank_nonNA_list.reshape(37138,1)),axis=1)"
   ]
  },
  {
   "cell_type": "code",
   "execution_count": 117,
   "metadata": {
    "collapsed": false
   },
   "outputs": [
    {
     "data": {
      "text/plain": [
       "(37138, 2)"
      ]
     },
     "execution_count": 117,
     "metadata": {},
     "output_type": "execute_result"
    }
   ],
   "source": [
    "temp.shape"
   ]
  },
  {
   "cell_type": "code",
   "execution_count": 120,
   "metadata": {
    "collapsed": false
   },
   "outputs": [],
   "source": [
    "dataframe = pd.DataFrame(temp)\n",
    "\n",
    "dataframe.to_csv(\"genebank_list_nonNA.csv\")"
   ]
  },
  {
   "cell_type": "markdown",
   "metadata": {},
   "source": [
    "# Load the data"
   ]
  },
  {
   "cell_type": "code",
   "execution_count": 225,
   "metadata": {
    "collapsed": false
   },
   "outputs": [],
   "source": [
    "from scipy import io as sio\n",
    "from sklearn.preprocessing import Imputer\n",
    "\n",
    "data_PFC = sio.loadmat(\"/Volumes/TONY/LabWW/Alzheimer/GSE44772/GSE44772_PFC.mat\")\n",
    "data_VC = sio.loadmat(\"/Volumes/TONY/LabWW/Alzheimer/GSE44772/GSE44772_VC.mat\")\n",
    "data_CR = sio.loadmat(\"/Volumes/TONY/LabWW/Alzheimer/GSE44772/GSE44772_CR.mat\")\n",
    "\n",
    "def setRegion(region):\n",
    "    if region == 'PFC':\n",
    "        ourdata = data_PFC\n",
    "    elif region == 'VC':\n",
    "        ourdata = data_VC\n",
    "    elif region == 'CR':\n",
    "        ourdata = data_CR\n",
    "    elif region == 'All':\n",
    "        ourdata = data_All\n",
    "        \n",
    "    inputX = ourdata['X']\n",
    "    # Inpute using median\n",
    "    imp = Imputer(missing_values='NaN', strategy='mean', axis=0)\n",
    "    imp.fit(inputX)\n",
    "    inputX = imp.transform(inputX)\n",
    "    \n",
    "    inputY = ourdata['y'][0,:]\n",
    "    \n",
    "    ID = ourdata['ID'][:,1]\n",
    "    \n",
    "    return inputX, inputY, ID"
   ]
  },
  {
   "cell_type": "code",
   "execution_count": 275,
   "metadata": {
    "collapsed": false
   },
   "outputs": [],
   "source": [
    "weights_dfs = weights_CR\n",
    "inputX, inputY, ID = setRegion('CR')\n",
    "IG = sio.loadmat('../data/CR_IG.mat')\n",
    "ig = IG['IG'][0]\n",
    "\n",
    "best, index_best = unionDFSfeatures(9)\n",
    "best_entrez = np.array([mappingEntrez[ID[i]] for i in index_best]).astype(int)\n",
    "best_genbank = np.array([mappingGenbank[ID[i]] for i in index_best])"
   ]
  },
  {
   "cell_type": "code",
   "execution_count": 276,
   "metadata": {
    "collapsed": false
   },
   "outputs": [],
   "source": [
    "refinedBest = list(np.array(index_best)[list(np.where(best_entrez>0)[0])])"
   ]
  },
  {
   "cell_type": "code",
   "execution_count": 277,
   "metadata": {
    "collapsed": false
   },
   "outputs": [
    {
     "name": "stdout",
     "output_type": "stream",
     "text": [
      "113146\n",
      "10763\n",
      "7432\n",
      "6363\n",
      "1601\n",
      "153688\n",
      "1376\n",
      "604\n",
      "8974\n",
      "54898\n",
      "5179\n",
      "4311\n",
      "1984\n",
      "59352\n",
      "2205\n",
      "399563\n",
      "3151\n",
      "4986\n",
      "4311\n",
      "4311\n",
      "57214\n",
      "3614\n",
      "2662\n",
      "1815\n",
      "4192\n",
      "11197\n",
      "84873\n",
      "145873\n",
      "414\n",
      "54716\n",
      "2557\n",
      "113278\n",
      "116238\n",
      "284800\n",
      "89122\n",
      "285704\n",
      "83447\n",
      "57722\n",
      "55536\n",
      "5015\n",
      "79144\n",
      "81625\n",
      "6436\n",
      "169611\n",
      "120425\n",
      "55415\n",
      "286410\n",
      "10418\n",
      "254295\n",
      "3250\n",
      "5212\n",
      "3479\n",
      "340419\n",
      "91612\n",
      "153328\n",
      "25907\n",
      "202151\n",
      "3704\n",
      "27152\n",
      "79644\n",
      "64072\n",
      "6387\n",
      "5650\n",
      "28231\n",
      "29930\n",
      "89122\n",
      "129790\n",
      "80174\n",
      "112609\n",
      "10590\n",
      "83872\n",
      "56061\n",
      "8074\n",
      "124404\n",
      "57125\n",
      "221914\n",
      "5935\n",
      "10521\n",
      "389833\n",
      "388439\n",
      "84963\n",
      "390079\n",
      "284801\n",
      "286177\n",
      "441733\n",
      "387648\n",
      "493860\n",
      "283029\n",
      "152078\n",
      "126537\n",
      "253017\n",
      "441932\n",
      "440885\n",
      "389336\n",
      "3117\n",
      "771\n",
      "440138\n",
      "440993\n",
      "57817\n",
      "28231\n",
      "3250\n",
      "6822\n"
     ]
    }
   ],
   "source": [
    "for i in best_entrez[best_entrez>0]:\n",
    "    print i"
   ]
  },
  {
   "cell_type": "code",
   "execution_count": 283,
   "metadata": {
    "collapsed": false
   },
   "outputs": [
    {
     "data": {
      "text/plain": [
       "0.98685990338164253"
      ]
     },
     "execution_count": 283,
     "metadata": {},
     "output_type": "execute_result"
    }
   ],
   "source": [
    "np.mean(cross_val_score(svm, inputX[:, refinedBest], inputY, cv=5))"
   ]
  },
  {
   "cell_type": "code",
   "execution_count": 282,
   "metadata": {
    "collapsed": false
   },
   "outputs": [
    {
     "data": {
      "text/plain": [
       "102"
      ]
     },
     "execution_count": 282,
     "metadata": {},
     "output_type": "execute_result"
    }
   ],
   "source": [
    "len(refinedBest)"
   ]
  },
  {
   "cell_type": "code",
   "execution_count": 269,
   "metadata": {
    "collapsed": false
   },
   "outputs": [
    {
     "data": {
      "text/plain": [
       "138"
      ]
     },
     "execution_count": 269,
     "metadata": {},
     "output_type": "execute_result"
    }
   ],
   "source": [
    "len(refinedBest)"
   ]
  },
  {
   "cell_type": "markdown",
   "metadata": {},
   "source": [
    "# Functions that regenerate the input data X based on different standards"
   ]
  },
  {
   "cell_type": "code",
   "execution_count": 206,
   "metadata": {
    "collapsed": false
   },
   "outputs": [],
   "source": [
    "# Averaging the weights based on the sum of all the normalized weights\n",
    "averagedWeight = weights_dfs.sum(axis=0)\n",
    "# ranking indexes for DFS (Average)\n",
    "indexes_average_dfs = np.argsort(averagedWeight)[::-1]\n",
    "\n",
    "# Select features in rank [a, b] from average DFS model, and also the indexes of these features\n",
    "def topAveDFSfeatures(a,b):\n",
    "    return inputX[:, indexes_average_dfs.tolist()[a:b]], indexes_average_dfs.tolist()[a:b]\n",
    "\n",
    "# Select the union of top N features from each of the DFS model, and also the indexes of these features\n",
    "def unionDFSfeatures(n):\n",
    "    indexes_union = []\n",
    "    for i in xrange(30):\n",
    "        indexes_union.append(np.argsort(weights_dfs[i])[::-1][:n].tolist())\n",
    "        \n",
    "    union = reduce(np.union1d, indexes_union).tolist()\n",
    "#     print(\"Number of union features:\", len(union))\n",
    "    \n",
    "    return inputX[:, union], union\n",
    "\n",
    "# Select the intersection of top N features from each of the DFS model, and also the indexes of these features\n",
    "def intersectDFSfeatures(n):\n",
    "    indexes_intersect = []\n",
    "    for i in xrange(30):\n",
    "        indexes_intersect.append(np.argsort(weights_dfs[i])[::-1][:n].tolist())\n",
    "    \n",
    "    intersected = reduce(np.intersect1d, indexes_intersect).tolist()\n",
    "#     print(\"Number of intersected features:\",len(intersected))\n",
    "    return inputX[:, intersected], intersected\n",
    "\n",
    "# Select features in rank [a, b] from each of the XGBoost model, and also the indexes of these features\n",
    "def topXGBoostfeatures(a,b):\n",
    "    return inputX[:, indexes_xgboost.tolist()[a:b]], indexes_xgboost.tolist()[a:b]\n",
    "\n",
    "# SSelect features in rank [a, b] from one of the DFS model (n stands for which single model), \n",
    "# and also the indexes of these features\n",
    "def pickOneDFSfeatures(a,b,n):\n",
    "    indexx = np.argsort(weights_dfs[n])[::-1]\n",
    "    return inputX[:, indexx.tolist()[a:b]], indexx.tolist()[a:b]"
   ]
  },
  {
   "cell_type": "code",
   "execution_count": 274,
   "metadata": {
    "collapsed": false
   },
   "outputs": [
    {
     "name": "stdout",
     "output_type": "stream",
     "text": [
      "1\n",
      "('Union:', 0.89194367355329418)\n",
      "2\n",
      "('Union:', 0.95670264158700802)\n",
      "3\n",
      "('Union:', 0.94800698941309491)\n",
      "4\n",
      "('Union:', 0.9653982937609209)\n",
      "5\n",
      "('Union:', 0.96095796073594408)\n",
      "6\n",
      "('Union:', 0.97400143899681368)\n",
      "7\n",
      "('Union:', 0.978160139788262)\n",
      "8\n",
      "('Union:', 0.978160139788262)\n",
      "9\n",
      "('Union:', 0.98241545893719806)\n",
      "10\n",
      "('Union:', 0.98241545893719806)\n",
      "11\n",
      "('Union:', 0.97825675814574975)\n",
      "12\n",
      "('Union:', 0.96955699455236921)\n",
      "13\n",
      "('Union:', 0.97834926508377007)\n",
      "14\n",
      "('Union:', 0.96974611984787751)\n",
      "15\n",
      "('Union:', 0.96964950149038953)\n",
      "16\n",
      "('Union:', 0.96964950149038953)\n",
      "17\n",
      "('Union:', 0.974093945934834)\n",
      "18\n",
      "('Union:', 0.96095384931647643)\n",
      "19\n",
      "('Union:', 0.96095384931647643)\n",
      "DFS Union has been ran.\n",
      "('Ave:', 0.55199095487717131)\n",
      "('Ave:', 0.54764312879021482)\n",
      "('Ave:', 0.55208757323465929)\n",
      "('Ave:', 0.70835234864837093)\n",
      "('Ave:', 0.68661321821358823)\n",
      "('Ave:', 0.69501901531503751)\n",
      "('Ave:', 0.70778497276184604)\n",
      "('Ave:', 0.6816939048206393)\n",
      "('Ave:', 0.69493061979648474)\n",
      "('Ave:', 0.69067530064754856)\n",
      "('Ave:', 0.71280090451228284)\n",
      "('Ave:', 0.75638811799773875)\n",
      "('Ave:', 0.81754342686812609)\n",
      "('Ave:', 0.82179463459759483)\n",
      "('Ave:', 0.84353376503237743)\n",
      "('Ave:', 0.83493061979648486)\n",
      "('Ave:', 0.83918593894542093)\n",
      "('Ave:', 0.83927844588344125)\n",
      "('Ave:', 0.83049028677150782)\n",
      "('Ave:', 0.8349347312159523)\n",
      "('Ave:', 0.80458834412580948)\n",
      "('Ave:', 0.81328399629972259)\n",
      "('Ave:', 0.80893617021276598)\n",
      "('Ave:', 0.82642409291808006)\n",
      "('Ave:', 0.81763182238667897)\n",
      "('Ave:', 0.81328399629972237)\n",
      "('Ave:', 0.81772844074416684)\n",
      "('Ave:', 0.81782505910165482)\n",
      "('Ave:', 0.84392023846232911)\n",
      "('Ave:', 0.83957241237537272)\n",
      "('Ave:', 0.85261589063624221)\n",
      "('Ave:', 0.84826806454928561)\n",
      "('Ave:', 0.84817144619179774)\n",
      "('Ave:', 0.84817144619179774)\n",
      "('Ave:', 0.84817144619179774)\n",
      "('Ave:', 0.84826395312981795)\n",
      "('Ave:', 0.83947168259841709)\n",
      "('Ave:', 0.83947168259841709)\n",
      "('Ave:', 0.85242265392126626)\n",
      "('Ave:', 0.8436303833898654)\n",
      "('Ave:', 0.8436303833898654)\n",
      "('Ave:', 0.83937506424092923)\n",
      "('Ave:', 0.8349347312159523)\n",
      "('Ave:', 0.82614246068455144)\n",
      "('Ave:', 0.85195189639222946)\n",
      "('Ave:', 0.86064754856614256)\n",
      "('Ave:', 0.84759995888580542)\n",
      "('Ave:', 0.86499537465309895)\n",
      "('Ave:', 0.8693473121595231)\n",
      "('Ave:', 0.8693473121595231)\n",
      "('Ave:', 0.86055504162812224)\n",
      "('Ave:', 0.85629972247918595)\n",
      "('Ave:', 0.85629972247918595)\n",
      "('Ave:', 0.85629972247918595)\n",
      "('Ave:', 0.85185527803474148)\n",
      "('Ave:', 0.86065165998561)\n",
      "('Ave:', 0.86954054887449883)\n",
      "('Ave:', 0.8739849933189433)\n",
      "('Ave:', 0.86519272278754245)\n",
      "('Ave:', 0.87833281940589991)\n",
      "('Ave:', 0.87388837496145544)\n",
      "('Ave:', 0.87379175660396746)\n",
      "('Ave:', 0.87379175660396746)\n",
      "('Ave:', 0.87804707575290364)\n",
      "('Ave:', 0.87804707575290364)\n",
      "('Ave:', 0.87360263130845917)\n",
      "('Ave:', 0.87804707575290364)\n",
      "('Ave:', 0.87804707575290364)\n",
      "('Ave:', 0.86481036077705831)\n",
      "('Ave:', 0.86481036077705831)\n",
      "('Ave:', 0.86481036077705831)\n",
      "('Ave:', 0.87360263130845917)\n",
      "('Ave:', 0.87360263130845917)\n",
      "('Ave:', 0.87795045739541577)\n",
      "('Ave:', 0.87795045739541577)\n",
      "('Ave:', 0.87360263130845917)\n",
      "('Ave:', 0.87795045739541577)\n",
      "('Ave:', 0.87795045739541577)\n",
      "('Ave:', 0.87350601295097141)\n",
      "('Ave:', 0.8691581868640148)\n",
      "('Ave:', 0.87360263130845917)\n",
      "('Ave:', 0.87360263130845917)\n",
      "('Ave:', 0.87369513824647949)\n",
      "('Ave:', 0.87813958269092396)\n",
      "('Ave:', 0.87369513824647949)\n",
      "('Ave:', 0.87369513824647949)\n",
      "('Ave:', 0.87369513824647949)\n",
      "('Ave:', 0.87813958269092396)\n",
      "('Ave:', 0.87369513824647949)\n",
      "('Ave:', 0.87369513824647949)\n",
      "('Ave:', 0.87795045739541566)\n",
      "('Ave:', 0.87369513824647949)\n",
      "('Ave:', 0.87369513824647949)\n",
      "('Ave:', 0.87369513824647949)\n",
      "('Ave:', 0.87369513824647949)\n",
      "('Ave:', 0.87369513824647949)\n",
      "('Ave:', 0.87804296433343598)\n",
      "('Ave:', 0.87804296433343598)\n",
      "('Ave:', 0.87804296433343598)\n",
      "('Ave:', 0.87804296433343598)\n",
      "('Ave:', 0.87804296433343598)\n",
      "('Ave:', 0.87804296433343598)\n",
      "('Ave:', 0.87804296433343598)\n",
      "('Ave:', 0.87804296433343598)\n",
      "('Ave:', 0.87823208962894428)\n",
      "('Ave:', 0.87823208962894428)\n",
      "('Ave:', 0.87823208962894428)\n",
      "('Ave:', 0.85591736046870182)\n",
      "('Ave:', 0.86045431185116661)\n",
      "('Ave:', 0.85600986740672214)\n",
      "('Ave:', 0.8647096310001029)\n",
      "('Ave:', 0.85600986740672214)\n",
      "('Ave:', 0.85600986740672214)\n",
      "('Ave:', 0.85600986740672214)\n",
      "('Ave:', 0.86064343714667491)\n",
      "('Ave:', 0.86064343714667491)\n",
      "('Ave:', 0.86083667386165064)\n",
      "('Ave:', 0.86953232603556374)\n",
      "('Ave:', 0.86508788159111938)\n",
      "('Ave:', 0.86518449994860736)\n",
      "('Ave:', 0.86943570767807576)\n",
      "('Ave:', 0.86943570767807576)\n",
      "('Ave:', 0.86943570767807576)\n",
      "('Ave:', 0.86943570767807576)\n",
      "('Ave:', 0.86943570767807576)\n",
      "('Ave:', 0.86074005550416266)\n",
      "('Ave:', 0.86074005550416266)\n",
      "('Ave:', 0.86943570767807576)\n",
      "('Ave:', 0.86943570767807576)\n",
      "('Ave:', 0.86508788159111938)\n",
      "('Ave:', 0.86508788159111938)\n",
      "('Ave:', 0.86508788159111938)\n",
      "('Ave:', 0.86508788159111938)\n",
      "('Ave:', 0.86508788159111938)\n",
      "('Ave:', 0.86508788159111938)\n",
      "('Ave:', 0.86508788159111938)\n",
      "('Ave:', 0.86943570767807576)\n",
      "('Ave:', 0.87378353376503237)\n",
      "('Ave:', 0.87813547127145652)\n",
      "('Ave:', 0.87397265906054056)\n",
      "('Ave:', 0.87397265906054056)\n",
      "('Ave:', 0.87841710350498503)\n",
      "('Ave:', 0.86952821461609608)\n",
      "('Ave:', 0.86527289546716002)\n",
      "('Ave:', 0.87416178435604885)\n",
      "('Ave:', 0.87416178435604885)\n",
      "('Ave:', 0.87841710350498503)\n",
      "('Ave:', 0.86536951382464777)\n",
      "('Ave:', 0.86536951382464777)\n",
      "('Ave:', 0.86092506938020341)\n",
      "('Ave:', 0.86536951382464777)\n",
      "('Ave:', 0.87841710350498503)\n",
      "('Ave:', 0.87841710350498503)\n",
      "('Ave:', 0.87416178435604885)\n",
      "('Ave:', 0.87416178435604885)\n",
      "('Ave:', 0.87416178435604885)\n",
      "('Ave:', 0.87416178435604885)\n",
      "('Ave:', 0.87416178435604885)\n",
      "('Ave:', 0.87416178435604885)\n",
      "('Ave:', 0.87416178435604885)\n",
      "('Ave:', 0.87416178435604885)\n",
      "('Ave:', 0.87416178435604885)\n",
      "('Ave:', 0.87416178435604885)\n",
      "('Ave:', 0.86971733991160449)\n",
      "('Ave:', 0.86971733991160449)\n",
      "('Ave:', 0.86971733991160449)\n",
      "('Ave:', 0.86971733991160449)\n",
      "('Ave:', 0.865369513824648)\n",
      "('Ave:', 0.865369513824648)\n",
      "('Ave:', 0.865369513824648)\n",
      "('Ave:', 0.865369513824648)\n",
      "('Ave:', 0.87850961044300535)\n",
      "('Ave:', 0.87850961044300535)\n",
      "('Ave:', 0.87850961044300535)\n",
      "('Ave:', 0.87850961044300535)\n",
      "('Ave:', 0.87850961044300535)\n",
      "('Ave:', 0.87850961044300535)\n",
      "('Ave:', 0.88285743652996196)\n",
      "('Ave:', 0.88285743652996196)\n",
      "('Ave:', 0.87850961044300535)\n",
      "('Ave:', 0.88285743652996196)\n",
      "('Ave:', 0.87850961044300535)\n",
      "('Ave:', 0.86981395826909225)\n",
      "('Ave:', 0.87416178435604885)\n",
      "('Ave:', 0.87850961044300535)\n",
      "('Ave:', 0.87850961044300535)\n",
      "('Ave:', 0.87416178435604885)\n",
      "('Ave:', 0.86546613218213575)\n",
      "('Ave:', 0.86991057662658022)\n",
      "('Ave:', 0.86991057662658022)\n",
      "('Ave:', 0.86991057662658022)\n",
      "('Ave:', 0.86991057662658022)\n",
      "('Ave:', 0.86111830609517936)\n",
      "('Ave:', 0.86111830609517936)\n",
      "('Ave:', 0.86546613218213575)\n",
      "('Ave:', 0.86546613218213575)\n",
      "('Ave:', 0.86111830609517936)\n",
      "('Ave:', 0.86111830609517936)\n",
      "('Ave:', 0.86111830609517936)\n",
      "('Ave:', 0.86111830609517936)\n",
      "('Ave:', 0.85677048000822276)\n",
      "('Ave:', 0.85677048000822276)\n",
      "('Ave:', 0.85677048000822276)\n",
      "('Ave:', 0.85677048000822276)\n",
      "('Ave:', 0.85677048000822276)\n",
      "('Ave:', 0.85677048000822276)\n",
      "('Ave:', 0.85677048000822276)\n",
      "('Ave:', 0.85677048000822276)\n",
      "('Ave:', 0.86111830609517936)\n",
      "('Ave:', 0.86111830609517936)\n",
      "('Ave:', 0.86111830609517936)\n",
      "('Ave:', 0.86546613218213575)\n",
      "('Ave:', 0.86102168773769139)\n",
      "('Ave:', 0.86102168773769139)\n",
      "('Ave:', 0.86546613218213575)\n",
      "('Ave:', 0.86981395826909247)\n",
      "('Ave:', 0.865369513824648)\n",
      "('Ave:', 0.86981395826909247)\n",
      "('Ave:', 0.86981395826909247)\n",
      "('Ave:', 0.86981395826909247)\n",
      "('Ave:', 0.86546613218213575)\n",
      "('Ave:', 0.86546613218213575)\n",
      "('Ave:', 0.86546613218213575)\n",
      "('Ave:', 0.86546613218213575)\n",
      "('Ave:', 0.86981395826909247)\n",
      "('Ave:', 0.86981395826909247)\n",
      "('Ave:', 0.86981395826909247)\n",
      "('Ave:', 0.88683112344536941)\n",
      "('Ave:', 0.88683112344536941)\n",
      "('Ave:', 0.88683112344536941)\n",
      "('Ave:', 0.88683112344536941)\n",
      "('Ave:', 0.88683112344536941)\n",
      "('Ave:', 0.89127556788981388)\n",
      "('Ave:', 0.88683112344536941)\n",
      "('Ave:', 0.88683112344536941)\n",
      "('Ave:', 0.88683112344536941)\n",
      "('Ave:', 0.89553088703875017)\n",
      "('Ave:', 0.89553088703875017)\n",
      "('Ave:', 0.89553088703875017)\n",
      "('Ave:', 0.89553088703875017)\n",
      "('Ave:', 0.89997533148319453)\n",
      "('Ave:', 0.89997533148319453)\n",
      "('Ave:', 0.88248329735841291)\n",
      "('Ave:', 0.88248329735841291)\n",
      "('Ave:', 0.89553088703875017)\n",
      "('Ave:', 0.89987871312570655)\n",
      "('Ave:', 0.89987871312570655)\n",
      "('Ave:', 0.89987871312570655)\n",
      "('Ave:', 0.89562339397677049)\n",
      "('Ave:', 0.89562339397677049)\n",
      "('Ave:', 0.90413403227464273)\n",
      "DFS average has been ran.\n",
      "('IG:', 0.88683523486483706)\n",
      "('IG:', 0.89137218624730186)\n",
      "('IG:', 0.89137218624730186)\n",
      "('IG:', 0.89572412375372612)\n",
      "('IG:', 0.88702847157981279)\n",
      "('IG:', 0.88702847157981279)\n",
      "('IG:', 0.88702847157981279)\n",
      "('IG:', 0.8913762976667694)\n",
      "('IG:', 0.8913762976667694)\n",
      "('IG:', 0.88702847157981279)\n",
      "('IG:', 0.88702847157981279)\n",
      "('IG:', 0.88258402713536843)\n",
      "('IG:', 0.88683934628430472)\n",
      "('IG:', 0.88683934628430472)\n",
      "('IG:', 0.88683934628430472)\n",
      "('IG:', 0.88249152019734822)\n",
      "('IG:', 0.88683934628430472)\n",
      "('IG:', 0.88258402713536843)\n",
      "('IG:', 0.8913762976667694)\n",
      "('IG:', 0.88693185322232504)\n",
      "('IG:', 0.88693185322232504)\n",
      "('IG:', 0.87823208962894428)\n",
      "('IG:', 0.87823208962894428)\n",
      "('IG:', 0.88257991571590089)\n",
      "('IG:', 0.87823208962894428)\n",
      "('IG:', 0.88267653407338886)\n",
      "('IG:', 0.88693185322232504)\n",
      "('IG:', 0.88248740877788057)\n",
      "('IG:', 0.88248740877788057)\n",
      "('IG:', 0.88239490183986002)\n",
      "('IG:', 0.88239490183986002)\n",
      "('IG:', 0.8911871723712611)\n",
      "('IG:', 0.89997944290266219)\n",
      "('IG:', 0.89997944290266219)\n",
      "('IG:', 0.89997944290266219)\n",
      "('IG:', 0.89997944290266219)\n",
      "('IG:', 0.89997944290266219)\n",
      "('IG:', 0.90432726898961868)\n",
      "('IG:', 0.90432726898961868)\n",
      "('IG:', 0.90867509507657507)\n",
      "('IG:', 0.90432726898961879)\n",
      "('IG:', 0.90432726898961879)\n",
      "('IG:', 0.90432726898961879)\n",
      "('IG:', 0.90432726898961879)\n",
      "('IG:', 0.90867509507657507)\n",
      "('IG:', 0.90432726898961879)\n",
      "('IG:', 0.90867509507657507)\n",
      "('IG:', 0.90432726898961879)\n",
      "('IG:', 0.90432726898961879)\n",
      "('IG:', 0.90432726898961879)\n",
      "('IG:', 0.90432726898961879)\n",
      "('IG:', 0.90432726898961879)\n",
      "('IG:', 0.90867509507657507)\n",
      "('IG:', 0.90432726898961868)\n",
      "('IG:', 0.90867509507657507)\n",
      "('IG:', 0.90867509507657507)\n",
      "('IG:', 0.90432726898961868)\n",
      "('IG:', 0.90877171343406304)\n",
      "('IG:', 0.90867509507657507)\n",
      "('IG:', 0.90432726898961868)\n",
      "('IG:', 0.90432726898961868)\n",
      "('IG:', 0.90877171343406304)\n",
      "('IG:', 0.90007606126014994)\n",
      "('IG:', 0.90007606126014994)\n",
      "('IG:', 0.90442388734710666)\n",
      "('IG:', 0.90442388734710666)\n",
      "('IG:', 0.90442388734710666)\n",
      "('IG:', 0.90007606126014994)\n",
      "('IG:', 0.89572823517319355)\n",
      "('IG:', 0.89572823517319355)\n",
      "('IG:', 0.89572823517319355)\n",
      "('IG:', 0.89572823517319355)\n",
      "('IG:', 0.89572823517319355)\n",
      "('IG:', 0.89572823517319355)\n",
      "('IG:', 0.89572823517319355)\n",
      "('IG:', 0.89572823517319355)\n",
      "('IG:', 0.89572823517319355)\n",
      "('IG:', 0.89572823517319355)\n",
      "('IG:', 0.90007606126014994)\n",
      "('IG:', 0.90007606126014994)\n",
      "('IG:', 0.90007606126014994)\n",
      "('IG:', 0.90007606126014994)\n",
      "('IG:', 0.90007606126014994)\n",
      "('IG:', 0.90007606126014994)\n",
      "('IG:', 0.90007606126014994)\n",
      "('IG:', 0.90007606126014994)\n",
      "('IG:', 0.90007606126014994)\n",
      "('IG:', 0.90007606126014994)\n",
      "('IG:', 0.90007606126014994)\n",
      "('IG:', 0.90007606126014994)\n",
      "('IG:', 0.90007606126014994)\n",
      "('IG:', 0.90007606126014994)\n",
      "('IG:', 0.90007606126014994)\n",
      "('IG:', 0.89147291602425738)\n",
      "('IG:', 0.89147291602425738)\n",
      "('IG:', 0.89572823517319355)\n",
      "('IG:', 0.89572823517319355)\n",
      "('IG:', 0.89572823517319355)\n",
      "('IG:', 0.89572823517319355)\n",
      "('IG:', 0.89572823517319355)\n",
      "('IG:', 0.89128379072874897)\n",
      "('IG:', 0.89147291602425738)\n",
      "('IG:', 0.88702847157981279)\n",
      "('IG:', 0.89572823517319355)\n",
      "('IG:', 0.89138040908623695)\n",
      "('IG:', 0.89572823517319355)\n",
      "('IG:', 0.89138040908623695)\n",
      "('IG:', 0.89572823517319355)\n",
      "('IG:', 0.89572823517319355)\n",
      "('IG:', 0.89138040908623695)\n",
      "('IG:', 0.89138040908623695)\n",
      "('IG:', 0.90007606126014994)\n",
      "('IG:', 0.90007606126014994)\n",
      "('IG:', 0.8913762976667694)\n",
      "('IG:', 0.8913762976667694)\n",
      "('IG:', 0.8913762976667694)\n",
      "('IG:', 0.89563161681570558)\n",
      "('IG:', 0.8913762976667694)\n",
      "('IG:', 0.88693596464179247)\n",
      "('IG:', 0.88693596464179247)\n",
      "('IG:', 0.88693596464179247)\n",
      "('IG:', 0.88693596464179247)\n",
      "('IG:', 0.89128379072874897)\n",
      "('IG:', 0.89128379072874897)\n",
      "('IG:', 0.89128379072874897)\n",
      "('IG:', 0.89128379072874897)\n",
      "('IG:', 0.89128379072874897)\n",
      "('IG:', 0.88693596464179247)\n",
      "('IG:', 0.88693596464179247)\n",
      "('IG:', 0.88693596464179247)\n",
      "('IG:', 0.88693596464179247)\n",
      "('IG:', 0.88693596464179247)\n",
      "('IG:', 0.88693596464179247)\n",
      "('IG:', 0.88693596464179247)\n",
      "('IG:', 0.88693596464179247)\n",
      "('IG:', 0.88693596464179247)\n",
      "('IG:', 0.88693596464179247)\n",
      "('IG:', 0.88693596464179247)\n",
      "('IG:', 0.88693596464179247)\n",
      "('IG:', 0.88693596464179247)\n",
      "('IG:', 0.88693596464179247)\n",
      "('IG:', 0.88693596464179247)\n",
      "('IG:', 0.88268064549285641)\n",
      "('IG:', 0.88268064549285641)\n",
      "('IG:', 0.88268064549285641)\n",
      "('IG:', 0.88268064549285641)\n",
      "('IG:', 0.87842532634392023)\n",
      "('IG:', 0.87842532634392023)\n",
      "('IG:', 0.87842532634392023)\n",
      "('IG:', 0.87842532634392023)\n",
      "('IG:', 0.87842532634392023)\n",
      "('IG:', 0.87842532634392023)\n",
      "('IG:', 0.87842532634392023)\n",
      "('IG:', 0.87833281940589991)\n",
      "('IG:', 0.87833281940589991)\n",
      "('IG:', 0.88702847157981279)\n",
      "('IG:', 0.88702847157981279)\n",
      "('IG:', 0.88702847157981279)\n",
      "('IG:', 0.88702847157981279)\n",
      "('IG:', 0.88702847157981279)\n",
      "('IG:', 0.88702847157981279)\n",
      "('IG:', 0.88702847157981279)\n",
      "('IG:', 0.88277315243087673)\n",
      "('IG:', 0.88277315243087673)\n",
      "('IG:', 0.88277315243087673)\n",
      "('IG:', 0.87832870798643226)\n",
      "('IG:', 0.88712097851783334)\n",
      "('IG:', 0.88712097851783334)\n",
      "('IG:', 0.88712097851783334)\n",
      "('IG:', 0.88712097851783334)\n",
      "('IG:', 0.88712097851783334)\n",
      "('IG:', 0.88712097851783334)\n",
      "('IG:', 0.88712097851783334)\n",
      "('IG:', 0.88712097851783334)\n",
      "('IG:', 0.88712097851783334)\n",
      "('IG:', 0.88712097851783334)\n",
      "('IG:', 0.88712097851783334)\n",
      "('IG:', 0.88712097851783334)\n",
      "('IG:', 0.88712097851783334)\n",
      "('IG:', 0.88712097851783334)\n",
      "('IG:', 0.88712097851783334)\n",
      "('IG:', 0.88712097851783334)\n",
      "('IG:', 0.88712097851783334)\n",
      "('IG:', 0.88277315243087673)\n",
      "('IG:', 0.88277315243087673)\n",
      "('IG:', 0.88277315243087673)\n",
      "('IG:', 0.88277315243087673)\n",
      "('IG:', 0.88277315243087673)\n",
      "('IG:', 0.87832870798643226)\n",
      "('IG:', 0.88712097851783334)\n",
      "('IG:', 0.88712097851783334)\n",
      "('IG:', 0.88712097851783334)\n",
      "('IG:', 0.88693185322232504)\n",
      "('IG:', 0.88693185322232504)\n",
      "('IG:', 0.88693185322232504)\n",
      "('IG:', 0.8913762976667694)\n",
      "('IG:', 0.88702847157981279)\n",
      "('IG:', 0.88702847157981279)\n",
      "('IG:', 0.88702847157981279)\n",
      "('IG:', 0.88702847157981279)\n",
      "('IG:', 0.88702847157981279)\n",
      "('IG:', 0.88258402713536843)\n",
      "('IG:', 0.88258402713536843)\n",
      "('IG:', 0.88258402713536843)\n",
      "('IG:', 0.88258402713536843)\n",
      "('IG:', 0.87832870798643226)\n",
      "('IG:', 0.87832870798643226)\n",
      "('IG:', 0.88702847157981279)\n",
      "('IG:', 0.88702847157981279)\n",
      "('IG:', 0.88702847157981279)\n",
      "('IG:', 0.88702847157981279)\n",
      "('IG:', 0.88702847157981279)\n",
      "('IG:', 0.88702847157981279)\n",
      "('IG:', 0.8913762976667694)\n",
      "('IG:', 0.88277315243087673)\n",
      "('IG:', 0.88712097851783334)\n",
      "('IG:', 0.88712097851783334)\n",
      "('IG:', 0.88277315243087673)\n",
      "('IG:', 0.88712097851783334)\n",
      "('IG:', 0.88712097851783334)\n",
      "('IG:', 0.88712097851783334)\n",
      "('IG:', 0.88712097851783334)\n",
      "('IG:', 0.88712097851783334)\n",
      "('IG:', 0.88712097851783334)\n",
      "('IG:', 0.88712097851783334)\n",
      "('IG:', 0.88712097851783334)\n",
      "('IG:', 0.88277315243087673)\n",
      "('IG:', 0.88712097851783334)\n",
      "('IG:', 0.88712097851783334)\n",
      "('IG:', 0.88712097851783334)\n",
      "('IG:', 0.88712097851783334)\n",
      "('IG:', 0.88712097851783334)\n",
      "('IG:', 0.88277315243087673)\n",
      "('IG:', 0.87842532634392023)\n",
      "('IG:', 0.87842532634392023)\n",
      "('IG:', 0.87842532634392023)\n",
      "('IG:', 0.87842532634392023)\n",
      "('IG:', 0.88277315243087673)\n",
      "('IG:', 0.87842532634392023)\n",
      "('IG:', 0.87842532634392023)\n",
      "('IG:', 0.87842532634392023)\n",
      "('IG:', 0.87842532634392023)\n",
      "('IG:', 0.87842532634392023)\n",
      "('IG:', 0.88277315243087673)\n",
      "('IG:', 0.88277315243087673)\n",
      "('IG:', 0.87842532634392023)\n",
      "('IG:', 0.87842532634392023)\n",
      "('IG:', 0.87842532634392023)\n",
      "('IG:', 0.88277315243087673)\n",
      "('IG:', 0.88277315243087673)\n",
      "('IG:', 0.88277315243087673)\n",
      "IG has been ran.\n",
      "Has ran a single DFS model:0\n",
      "Has ran a single DFS model:1\n",
      "Has ran a single DFS model:2\n",
      "Has ran a single DFS model:3\n",
      "Has ran a single DFS model:4\n"
     ]
    }
   ],
   "source": [
    "# Run SVM with top features from DFS union model\n",
    "scoresUnion = []\n",
    "n_unions = []\n",
    "top_n = []\n",
    "for i in xrange(1,20):\n",
    "    print i\n",
    "    keke, union = unionDFSfeatures(i)\n",
    "    if len(n_unions) == 0 or len(union) != n_unions[-1]:\n",
    "        top_n.append(i)\n",
    "        n_unions.append(len(union))\n",
    "        scoresUnion.append(np.mean(cross_val_score(svm, keke, inputY, cv=5)))\n",
    "        print(\"Union:\", scoresUnion[-1])\n",
    "    \n",
    "traceUnion = go.Scatter(\n",
    "    x = n_unions,\n",
    "    y = scoresUnion,\n",
    "    mode = 'lines+markers',\n",
    "    name = 'DFS Union'\n",
    ")\n",
    "\n",
    "print(\"DFS Union has been ran.\")\n",
    "\n",
    "\"\"\"\n",
    "    Below models are ran with maximu n == n_unions[-1]\n",
    "\"\"\"\n",
    "\n",
    "# Run SVM with top features from DFS average model\n",
    "scoresAve = []\n",
    "for n in xrange(1, n_unions[-1]):\n",
    "    temp, _ = topAveDFSfeatures(0,n)\n",
    "    scoresAve.append(np.mean(cross_val_score(svm, temp, inputY, cv=5)))\n",
    "    print(\"Ave:\", scoresAve[-1])\n",
    "\n",
    "traceAve = go.Scatter(\n",
    "    x = range(1, n_unions[-1]),\n",
    "    y = scoresAve,\n",
    "    mode = 'lines+markers',\n",
    "    name = 'DFS Ave'\n",
    ")\n",
    "\n",
    "print(\"DFS average has been ran.\")\n",
    "\n",
    "# Run SVM with top features from DFS average model\n",
    "scoresIG = []\n",
    "for n in xrange(1, n_unions[-1]):\n",
    "    temp, _ = topIGfeatures(0,n)\n",
    "    scoresIG.append(np.mean(cross_val_score(svm, temp, inputY, cv=5)))\n",
    "    print(\"IG:\", scoresIG[-1])\n",
    "\n",
    "traceIG = go.Scatter(\n",
    "    x = range(1, n_unions[-1]),\n",
    "    y = scoresIG,\n",
    "    mode = 'lines+markers',\n",
    "    name = 'IG'\n",
    ")\n",
    "\n",
    "print(\"IG has been ran.\")\n",
    "\n",
    "# Run SVM with top features from DFS single models\n",
    "tracesSingle = []\n",
    "for i in xrange(5):\n",
    "    print(\"Has ran a single DFS model:\"+str(i))\n",
    "    scoresNormal = []\n",
    "    for n in xrange(1, n_unions[-1]):\n",
    "        temp, _ = pickOneDFSfeatures(0,n,i)\n",
    "        scoresNormal.append(np.mean(cross_val_score(svm, temp, inputY, cv=5)))\n",
    "        \n",
    "    trace = go.Scatter(\n",
    "        x = range(1, n_unions[-1]),\n",
    "        y = scoresNormal,\n",
    "        mode = 'lines+markers',\n",
    "        name = 'DFS Single: '+str(i)\n",
    "    )\n",
    "    tracesSingle.append(trace)\n",
    "    \n",
    "# scoresXgboost = []\n",
    "# for n in xrange(1, n_unions[-1]):\n",
    "#     temp, _ = topXGBoostfeatures(0,n)\n",
    "#     scoresXgboost.append(np.mean(cross_val_score(svm, temp, inputY, cv=5)))\n",
    "#     print(\"XGBoost:\", scoresXgboost[-1])\n",
    "\n",
    "# traceXGB = go.Scatter(\n",
    "#     x = range(1, n_unions[-1]),\n",
    "#     y = scoresXgboost,\n",
    "#     mode = 'lines+markers',\n",
    "#     name = 'lines+markers'\n",
    "# )\n",
    "\n",
    "# print(\"XGBoost model has been ran.\")"
   ]
  },
  {
   "cell_type": "code",
   "execution_count": 143,
   "metadata": {
    "collapsed": false
   },
   "outputs": [],
   "source": [
    "best, index_best = unionDFSfeatures(7)"
   ]
  },
  {
   "cell_type": "code",
   "execution_count": 166,
   "metadata": {
    "collapsed": false
   },
   "outputs": [],
   "source": []
  },
  {
   "cell_type": "code",
   "execution_count": 147,
   "metadata": {
    "collapsed": false
   },
   "outputs": [
    {
     "data": {
      "text/plain": [
       "array([        780, 10023806539])"
      ]
     },
     "execution_count": 147,
     "metadata": {},
     "output_type": "execute_result"
    }
   ],
   "source": [
    "data_VC['ID'][i]"
   ]
  },
  {
   "cell_type": "code",
   "execution_count": 260,
   "metadata": {
    "collapsed": false
   },
   "outputs": [
    {
     "data": {
      "text/html": [
       "<iframe id=\"igraph\" scrolling=\"no\" style=\"border:none;\" seamless=\"seamless\" src=\"https://plot.ly/~tonyabracadabra/6.embed\" height=\"525px\" width=\"100%\"></iframe>"
      ],
      "text/plain": [
       "<plotly.tools.PlotlyDisplay object>"
      ]
     },
     "execution_count": 260,
     "metadata": {},
     "output_type": "execute_result"
    }
   ],
   "source": [
    "a = [traceUnion,traceAve, traceIG]\n",
    "a.extend(tracesSingle)\n",
    "\n",
    "py.iplot(a, filename='plot')"
   ]
  },
  {
   "cell_type": "markdown",
   "metadata": {},
   "source": [
    "# Compare features [0,10], [10,20], [20,30] ... [90,100]"
   ]
  },
  {
   "cell_type": "code",
   "execution_count": 202,
   "metadata": {
    "collapsed": false
   },
   "outputs": [
    {
     "name": "stdout",
     "output_type": "stream",
     "text": [
      "('Ave:', 0.90867509507657507)\n",
      "('Ave:', 0.90867509507657507)\n",
      "('Ave:', 0.90867509507657507)\n",
      "('Ave:', 0.90867509507657507)\n",
      "('Ave:', 0.90877171343406304)\n",
      "('Ave:', 0.91728235173193551)\n",
      "('Ave:', 0.92162606639942446)\n",
      "('Ave:', 0.92162606639942446)\n",
      "('Ave:', 0.91737074725048839)\n",
      "('Ave:', 0.89128379072874908)\n",
      "('Ave:', 0.90433138040908623)\n",
      "('Ave:', 0.90442388734710666)\n",
      "('Ave:', 0.91737485866995583)\n",
      "('Ave:', 0.90867920649604272)\n",
      "('Ave:', 0.89998355432212984)\n",
      "('Ave:', 0.90442388734710666)\n",
      "('Ave:', 0.89138040908623706)\n",
      "('Ave:', 0.89138040908623706)\n",
      "('Ave:', 0.89128790214821674)\n",
      "('Ave:', 0.89147291602425738)\n",
      "('IG:', 0.90432726898961879)\n",
      "('IG:', 0.90867509507657507)\n",
      "('IG:', 0.90432726898961868)\n",
      "('IG:', 0.90877171343406304)\n",
      "('IG:', 0.89563161681570558)\n",
      "('IG:', 0.89572823517319355)\n",
      "('IG:', 0.90007606126014994)\n",
      "('IG:', 0.90432726898961868)\n",
      "('IG:', 0.90432726898961868)\n",
      "('IG:', 0.89997944290266219)\n",
      "('IG:', 0.90007194984068239)\n",
      "('IG:', 0.88693185322232504)\n",
      "('IG:', 0.8913762976667694)\n",
      "('IG:', 0.90007194984068239)\n",
      "('IG:', 0.90007194984068239)\n",
      "('IG:', 0.89572412375372612)\n",
      "('IG:', 0.90007194984068239)\n",
      "('IG:', 0.89572412375372612)\n",
      "('IG:', 0.89572412375372612)\n",
      "('IG:', 0.90442388734710666)\n",
      "Has ran a single DFS model:0\n",
      "Has ran a single DFS model:1\n",
      "Has ran a single DFS model:2\n",
      "Has ran a single DFS model:3\n",
      "Has ran a single DFS model:4\n"
     ]
    }
   ],
   "source": [
    "# scoresXgboost_range = []\n",
    "# for i in xrange(20):\n",
    "#     temp, _ = topXGBoostfeatures(i,i+10)\n",
    "#     scoresXgboost_range.append(np.mean(cross_val_score(svm, temp, inputY, cv=5)))\n",
    "#     print(\"XGBoost:\", scoresXgboost_range[-1])\n",
    "\n",
    "# traceXGB_range = go.Scatter(\n",
    "#     x = range(20),\n",
    "#     y = scoresXgboost_range,\n",
    "#     mode = 'lines+markers',\n",
    "#     name = 'lines+markers'\n",
    "# )\n",
    "\n",
    "scoresAve_range = []\n",
    "for i in xrange(20):\n",
    "    temp, _ = topAveDFSfeatures(i,i+50)\n",
    "    scoresAve_range.append(np.mean(cross_val_score(svm, temp, inputY, cv=5)))\n",
    "    print(\"Ave:\", scoresAve_range[-1])\n",
    "\n",
    "traceAve_range = go.Scatter(\n",
    "    x = range(20),\n",
    "    y = scoresAve_range,\n",
    "    mode = 'lines+markers',\n",
    "    name = 'DFS Ave'\n",
    ")\n",
    "\n",
    "scoresIG_range = []\n",
    "for i in xrange(20):\n",
    "    temp, _ = topIGfeatures(i,i+50)\n",
    "    scoresIG_range.append(np.mean(cross_val_score(svm, temp, inputY, cv=5)))\n",
    "    print(\"IG:\", scoresIG_range[-1])\n",
    "\n",
    "traceIG_range = go.Scatter(\n",
    "    x = range(20),\n",
    "    y = scoresIG_range,\n",
    "    mode = 'lines+markers',\n",
    "    name = 'IG'\n",
    ")\n",
    "\n",
    "# Run SVM with top features from DFS single models\n",
    "tracesSingle_range = []\n",
    "for i in xrange(5):\n",
    "    print(\"Has ran a single DFS model:\"+str(i))\n",
    "    scoresNormal = []\n",
    "    for j in xrange(20):\n",
    "        temp, _ = pickOneDFSfeatures(j,j+50,i)\n",
    "        scoresNormal.append(np.mean(cross_val_score(svm, temp, inputY, cv=5)))\n",
    "        \n",
    "    trace = go.Scatter(\n",
    "        x = range(20),\n",
    "        y = scoresNormal,\n",
    "        mode = 'lines+markers',\n",
    "        name = 'DFS Single: '+str(i)\n",
    "    )\n",
    "    tracesSingle_range.append(trace)"
   ]
  },
  {
   "cell_type": "code",
   "execution_count": 203,
   "metadata": {
    "collapsed": false
   },
   "outputs": [
    {
     "data": {
      "text/html": [
       "<iframe id=\"igraph\" scrolling=\"no\" style=\"border:none;\" seamless=\"seamless\" src=\"https://plot.ly/~tonyabracadabra/6.embed\" height=\"525px\" width=\"100%\"></iframe>"
      ],
      "text/plain": [
       "<plotly.tools.PlotlyDisplay object>"
      ]
     },
     "execution_count": 203,
     "metadata": {},
     "output_type": "execute_result"
    }
   ],
   "source": [
    "b = [traceAve_range, traceIG_range]\n",
    "b.extend(tracesSingle_range)\n",
    "\n",
    "py.iplot(b, filename='plot')"
   ]
  },
  {
   "cell_type": "markdown",
   "metadata": {},
   "source": [
    "# Find intersecting features from each model"
   ]
  },
  {
   "cell_type": "code",
   "execution_count": null,
   "metadata": {
    "collapsed": true
   },
   "outputs": [],
   "source": [
    "_, ave = topAveDFSfeatures(0,102)\n",
    "_, xg = topXGBoostfeatures(0,102)\n",
    "_, union = unionDFSfeatures(27)\n",
    "\n",
    "# Intersection indexes\n",
    "intersect_3models = np.intersect1d(np.intersect1d(ave,union),xg).tolist()\n",
    "print temp.shape\n",
    "\n",
    "temp = inputX[:,intersect_3modsels]\n",
    "\n",
    "# Accuracy rate based on the three models\n",
    "np.mean(cross_val_score(svm, temp, inputY, cv=5))"
   ]
  },
  {
   "cell_type": "code",
   "execution_count": 169,
   "metadata": {
    "collapsed": true
   },
   "outputs": [],
   "source": [
    "X = np.random.rand(5,1)\n",
    "y = np.array([0,1,1,0,1])"
   ]
  },
  {
   "cell_type": "code",
   "execution_count": 170,
   "metadata": {
    "collapsed": false
   },
   "outputs": [
    {
     "data": {
      "text/plain": [
       "GMM(covariance_type='diag', init_params='wmc', min_covar=0.001,\n",
       "  n_components=2, n_init=1, n_iter=100, params='wmc', random_state=None,\n",
       "  thresh=None, tol=0.001, verbose=0)"
      ]
     },
     "execution_count": 170,
     "metadata": {},
     "output_type": "execute_result"
    }
   ],
   "source": [
    "from sklearn.mixture import GMM\n",
    "\n",
    "gmm = GMM(n_components=2)\n",
    "gmm.fit(X)"
   ]
  },
  {
   "cell_type": "code",
   "execution_count": 174,
   "metadata": {
    "collapsed": false
   },
   "outputs": [
    {
     "data": {
      "text/plain": [
       "array([[ 0.42880099],\n",
       "       [ 0.68039362],\n",
       "       [ 0.52554149],\n",
       "       [ 0.42296701],\n",
       "       [ 0.33023037]])"
      ]
     },
     "execution_count": 174,
     "metadata": {},
     "output_type": "execute_result"
    }
   ],
   "source": [
    "X"
   ]
  },
  {
   "cell_type": "code",
   "execution_count": 175,
   "metadata": {
    "collapsed": false
   },
   "outputs": [
    {
     "data": {
      "text/plain": [
       "array([1, 0, 1, 1, 1])"
      ]
     },
     "execution_count": 175,
     "metadata": {},
     "output_type": "execute_result"
    }
   ],
   "source": [
    "gmm.fit_predict(X)"
   ]
  },
  {
   "cell_type": "code",
   "execution_count": 176,
   "metadata": {
    "collapsed": true
   },
   "outputs": [],
   "source": []
  },
  {
   "cell_type": "code",
   "execution_count": 181,
   "metadata": {
    "collapsed": false
   },
   "outputs": [],
   "source": []
  },
  {
   "cell_type": "code",
   "execution_count": 192,
   "metadata": {
    "collapsed": false
   },
   "outputs": [],
   "source": [
    "def topIGfeatures(a,b):\n",
    "    indexes_IG = np.argsort(ig)[::-1][a:b]\n",
    "    return inputX[:, indexes_IG], indexes_IG"
   ]
  },
  {
   "cell_type": "code",
   "execution_count": null,
   "metadata": {
    "collapsed": false
   },
   "outputs": [],
   "source": []
  },
  {
   "cell_type": "code",
   "execution_count": 284,
   "metadata": {
    "collapsed": false
   },
   "outputs": [
    {
     "data": {
      "text/plain": [
       "array([  1.10895574e-01,   1.31042863e-01,   6.21529880e-03,\n",
       "         2.52163416e-03,   2.41009417e-02,   1.61356490e-02,\n",
       "         2.99863237e-03,   3.11532169e-02,   2.04260221e-01,\n",
       "         1.78802492e-02,   9.52907904e-02,   8.16887351e-02,\n",
       "         1.85355314e-01,   1.68254057e-01,   8.34945828e-03,\n",
       "         1.11561634e-01,   1.39311341e-02,   6.99954995e-02,\n",
       "         1.37771559e-03,   8.14885137e-02,   8.23198355e-02,\n",
       "         1.36470745e-02,   2.36266777e-01,   6.31690827e-02,\n",
       "         6.10165887e-02,   5.35009072e-02,   2.69106723e-04,\n",
       "         2.52163416e-03,   1.78363600e-01,   3.27967201e-04,\n",
       "         1.24932205e-01,   1.07417593e-01,   1.36867044e-03,\n",
       "         8.14885137e-02,   1.11000438e-03,   5.12229034e-06,\n",
       "         3.59021146e-03,   6.40510702e-02,   8.99896901e-04,\n",
       "         3.22713229e-02,   8.99896901e-04,   2.15449993e-01,\n",
       "         2.53409781e-03,   8.33308954e-03,   1.97232973e-04,\n",
       "         1.66453792e-01,   3.27860052e-03,   2.47227796e-01,\n",
       "         8.92561520e-03,   5.94843917e-02,   1.02088775e-01,\n",
       "         7.50414074e-03,   3.19906545e-02,   4.09020970e-04,\n",
       "         3.22987325e-03,   4.06832738e-02,   2.49292231e-03,\n",
       "         2.47841645e-02,   7.59022862e-03,   4.69531314e-02,\n",
       "         9.29589514e-02,   1.28172136e-03,   1.93578303e-01,\n",
       "         1.37451834e-02,   1.05175071e-01,   4.32691023e-02,\n",
       "         2.77162547e-02,   1.85908761e-02,   1.30355568e-01,\n",
       "         1.13245944e-01,   2.47701128e-01,   1.70494941e-01,\n",
       "         3.28332402e-02,   1.61062454e-01,   1.69440005e-01,\n",
       "         5.12353683e-02,   1.36553537e-01,   3.41233758e-01,\n",
       "         3.59021146e-03,   4.35223266e-04,   1.39311341e-02,\n",
       "         3.46754918e-02,   5.30521132e-02,   4.91939177e-05,\n",
       "         2.34293784e-02,   1.08755307e-02,   3.08046933e-04,\n",
       "         3.74683426e-02,   6.05728290e-02,   3.30837366e-05,\n",
       "         2.33319448e-01,   8.18793110e-03,   7.74656275e-02,\n",
       "         3.08046933e-04,   2.48882813e-02,   1.51661535e-01,\n",
       "         6.77081084e-02,   1.19844661e-02,   1.36329195e-03,\n",
       "         2.08065363e-02,   7.61003129e-03,   6.54926370e-05,\n",
       "         1.15735977e-03,   4.35223266e-04,   2.33606395e-03,\n",
       "         6.95882473e-05,   2.52163416e-03,   1.58674671e-02,\n",
       "         2.80727465e-04,   4.28673085e-03,   5.43479998e-03,\n",
       "         1.08130349e-01,   3.22616949e-03,   5.90403123e-04,\n",
       "         7.61003129e-03,   1.11043241e-02,   3.65241814e-04,\n",
       "         2.81261668e-03,   1.30340632e-01,   8.24218300e-02,\n",
       "         7.61003129e-03,   2.06031223e-02,   1.30326940e-04,\n",
       "         4.44734831e-03,   2.52163416e-03,   3.59021146e-03,\n",
       "         6.54161423e-02,   4.09805746e-02,   7.61003129e-03,\n",
       "         2.52163416e-03,   2.52163416e-03,   3.74452416e-03,\n",
       "         3.38600202e-02,   3.10178954e-04,   6.37316539e-04,\n",
       "         9.48220779e-03,   6.01385214e-03,   1.72570516e-02,\n",
       "         7.61003129e-03,   9.22465155e-02,   3.30891718e-01,\n",
       "         1.37451834e-02,   2.16033670e-03])"
      ]
     },
     "execution_count": 284,
     "metadata": {},
     "output_type": "execute_result"
    }
   ],
   "source": [
    "ig_cr[index_best]"
   ]
  },
  {
   "cell_type": "code",
   "execution_count": 288,
   "metadata": {
    "collapsed": false
   },
   "outputs": [
    {
     "data": {
      "text/plain": [
       "[779,\n",
       " 1205,\n",
       " 1295,\n",
       " 1455,\n",
       " 2090,\n",
       " 2303,\n",
       " 2468,\n",
       " 2485,\n",
       " 2838,\n",
       " 3155,\n",
       " 3245,\n",
       " 3400,\n",
       " 3477,\n",
       " 3528,\n",
       " 4006,\n",
       " 4163,\n",
       " 4383,\n",
       " 4799,\n",
       " 4927,\n",
       " 5031,\n",
       " 5336,\n",
       " 5470,\n",
       " 5674,\n",
       " 5744,\n",
       " 5817,\n",
       " 6066,\n",
       " 6966,\n",
       " 7189,\n",
       " 7441,\n",
       " 7941,\n",
       " 8017,\n",
       " 8347,\n",
       " 8791,\n",
       " 9509,\n",
       " 9942,\n",
       " 10262,\n",
       " 10443,\n",
       " 10495,\n",
       " 10723,\n",
       " 10724,\n",
       " 10802,\n",
       " 10870,\n",
       " 10887,\n",
       " 11284,\n",
       " 11432,\n",
       " 11487,\n",
       " 11598,\n",
       " 11649,\n",
       " 11783,\n",
       " 11818,\n",
       " 12195,\n",
       " 12358,\n",
       " 12844,\n",
       " 12893,\n",
       " 12996,\n",
       " 13135,\n",
       " 13868,\n",
       " 13993,\n",
       " 14109,\n",
       " 14813,\n",
       " 15570,\n",
       " 15597,\n",
       " 15867,\n",
       " 16249,\n",
       " 16482,\n",
       " 17814,\n",
       " 17901,\n",
       " 18347,\n",
       " 19271,\n",
       " 19562,\n",
       " 19688,\n",
       " 20012,\n",
       " 20258,\n",
       " 20262,\n",
       " 20587,\n",
       " 20677,\n",
       " 21291,\n",
       " 21513,\n",
       " 21780,\n",
       " 21861,\n",
       " 22238,\n",
       " 22335,\n",
       " 22459,\n",
       " 22543,\n",
       " 22731,\n",
       " 22856,\n",
       " 23379,\n",
       " 23531,\n",
       " 23703,\n",
       " 23950,\n",
       " 24301,\n",
       " 24364,\n",
       " 25119,\n",
       " 25131,\n",
       " 25239,\n",
       " 25447,\n",
       " 25712,\n",
       " 25724,\n",
       " 25792,\n",
       " 25871,\n",
       " 25950,\n",
       " 26162,\n",
       " 26365,\n",
       " 26692,\n",
       " 26790,\n",
       " 26920,\n",
       " 26931,\n",
       " 27448,\n",
       " 27591,\n",
       " 27908,\n",
       " 28272,\n",
       " 29483,\n",
       " 29633,\n",
       " 29649,\n",
       " 29714,\n",
       " 29888,\n",
       " 30397,\n",
       " 30578,\n",
       " 31170,\n",
       " 31469,\n",
       " 32389,\n",
       " 32828,\n",
       " 32870,\n",
       " 32889,\n",
       " 33226,\n",
       " 33241,\n",
       " 33751,\n",
       " 34518,\n",
       " 34679,\n",
       " 34870,\n",
       " 35528,\n",
       " 36448,\n",
       " 36502,\n",
       " 37082,\n",
       " 37276,\n",
       " 37338,\n",
       " 37534,\n",
       " 38133,\n",
       " 38635,\n",
       " 38722,\n",
       " 38759,\n",
       " 38996,\n",
       " 39145]"
      ]
     },
     "execution_count": 288,
     "metadata": {},
     "output_type": "execute_result"
    }
   ],
   "source": [
    "index_best"
   ]
  },
  {
   "cell_type": "code",
   "execution_count": 287,
   "metadata": {
    "collapsed": false
   },
   "outputs": [
    {
     "data": {
      "text/plain": [
       "array([ 1290, 35575, 25522, ..., 38759, 16235, 21513])"
      ]
     },
     "execution_count": 287,
     "metadata": {},
     "output_type": "execute_result"
    }
   ],
   "source": [
    "np.argsort(ig_cr)"
   ]
  }
 ],
 "metadata": {
  "kernelspec": {
   "display_name": "Python 2",
   "language": "python",
   "name": "python2"
  },
  "language_info": {
   "codemirror_mode": {
    "name": "ipython",
    "version": 2
   },
   "file_extension": ".py",
   "mimetype": "text/x-python",
   "name": "python",
   "nbconvert_exporter": "python",
   "pygments_lexer": "ipython2",
   "version": "2.7.12"
  }
 },
 "nbformat": 4,
 "nbformat_minor": 0
}
